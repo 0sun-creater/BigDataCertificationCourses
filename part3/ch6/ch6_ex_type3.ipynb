{
  "cells": [
    {
      "cell_type": "markdown",
      "source": [
        "[구글 코랩(Colab)에서 실행하기](https://colab.research.google.com/github/lovedlim/bigdata_analyst_cert_v2/blob/main/part3/ch6/ch6_ex_type3.ipynb)"
      ],
      "metadata": {
        "id": "nlRMN52jh6dF"
      }
    },
    {
      "cell_type": "markdown",
      "metadata": {
        "id": "rIah9uDls8Y4"
      },
      "source": [
        "### Section1."
      ]
    },
    {
      "cell_type": "code",
      "execution_count": 1,
      "metadata": {
        "id": "YdGBSoK7ss18"
      },
      "outputs": [],
      "source": [
        "# 데이터\n",
        "import pandas as pd\n",
        "df = pd.DataFrame({\n",
        "    'Caffeine(mg)': [\n",
        "        94.2, 93.7, 95.5, 93.9, 94.0, 95.2, 94.7, 93.5, 92.8, 94.4,\n",
        "        93.8, 94.6, 93.3, 95.1, 94.3, 94.9, 93.9, 94.8, 95.0, 94.2,\n",
        "        93.7, 94.4, 95.1, 94.0, 93.6\n",
        "    ]\n",
        "})"
      ]
    },
    {
      "cell_type": "code",
      "execution_count": 4,
      "metadata": {
        "colab": {
          "base_uri": "https://localhost:8080/"
        },
        "id": "eznrJoqNu2Y-",
        "outputId": "b6cf759a-7fec-4e72-962f-88e336fec31d"
      },
      "outputs": [
        {
          "output_type": "stream",
          "name": "stdout",
          "text": [
            "0.9322031137746971\n"
          ]
        }
      ],
      "source": [
        "from scipy import stats\n",
        "\n",
        "#정규성 검정\n",
        "print(stats.shapiro(df['Caffeine(mg)']).pvalue)"
      ]
    },
    {
      "cell_type": "code",
      "execution_count": 12,
      "metadata": {
        "colab": {
          "base_uri": "https://localhost:8080/"
        },
        "id": "YautJB8WtPId",
        "outputId": "340ec259-4601-43b2-ed3a-a136d0cf0d0f"
      },
      "outputs": [
        {
          "output_type": "stream",
          "name": "stdout",
          "text": [
            "0.00000586866\n"
          ]
        }
      ],
      "source": [
        "ttest, pvalue = stats.ttest_1samp(df['Caffeine(mg)'],95,alternative='less')\n",
        "print('{:.11f}'.format(pvalue))"
      ]
    },
    {
      "cell_type": "markdown",
      "source": [],
      "metadata": {
        "id": "VlLJTHl6PTKq"
      }
    },
    {
      "cell_type": "markdown",
      "metadata": {
        "id": "4jmb8WXluI9Z"
      },
      "source": [
        "### Section2."
      ]
    },
    {
      "cell_type": "code",
      "execution_count": 13,
      "metadata": {
        "colab": {
          "base_uri": "https://localhost:8080/"
        },
        "id": "TGuEitO6uDRd",
        "outputId": "c4faf715-fbed-4021-b3fd-7ba69ee8e5f3"
      },
      "outputs": [
        {
          "output_type": "stream",
          "name": "stdout",
          "text": [
            "   충전기  충전시간\n",
            "0  New   1.5\n",
            "1  New   1.6\n"
          ]
        }
      ],
      "source": [
        "# 데이터\n",
        "import pandas as pd\n",
        "df = pd.DataFrame({\n",
        "    '충전기': ['New'] * 10 + ['Old'] * 10,\n",
        "    '충전시간': [\n",
        "        1.5, 1.6, 1.4, 1.7, 1.5, 1.6, 1.7, 1.4, 1.6, 1.5,\n",
        "        1.7, 1.8, 1.7, 1.9, 1.8, 1.7, 1.8, 1.9, 1.7, 1.6\n",
        "    ]\n",
        "})\n",
        "print(df.head(2))"
      ]
    },
    {
      "cell_type": "code",
      "execution_count": 15,
      "metadata": {
        "colab": {
          "base_uri": "https://localhost:8080/"
        },
        "id": "kRpNDnEBz-PJ",
        "outputId": "0843a0eb-4764-4fd9-b817-a58eede8eef7"
      },
      "outputs": [
        {
          "output_type": "execute_result",
          "data": {
            "text/plain": [
              "TtestResult(statistic=np.float64(-4.582575694955849), pvalue=np.float64(0.00011546547787696304), df=np.float64(18.0))"
            ]
          },
          "metadata": {},
          "execution_count": 15
        }
      ],
      "source": [
        "'''\n",
        "두 그룹으로 나눠 한 그룹은 새로운 충전기/다른 그룹 기존 충전기\n",
        "정규분포,분산 같다\n",
        "모평균이 2개 / 새로운 충전기와 기존 충전기는 완전 다른것\n",
        "'''\n",
        "df_new = df[df['충전기'] == 'New']\n",
        "df_old = df[df['충전기'] == 'Old']\n",
        "\n",
        "stats.ttest_ind(df_new['충전시간'], df_old['충전시간'], alternative='less',equal_var=True)"
      ]
    },
    {
      "cell_type": "markdown",
      "metadata": {
        "id": "ei2s5M8I73GN"
      },
      "source": [
        "### Section3."
      ]
    },
    {
      "cell_type": "code",
      "execution_count": 16,
      "metadata": {
        "colab": {
          "base_uri": "https://localhost:8080/"
        },
        "id": "o45YbWXS74OE",
        "outputId": "0d81f072-06f4-4e03-fa53-01a534aafe1a"
      },
      "outputs": [
        {
          "output_type": "stream",
          "name": "stdout",
          "text": [
            "   User  기존방법  새로운방법\n",
            "0     1  60.4   59.8\n",
            "1     2  60.7   60.2\n"
          ]
        }
      ],
      "source": [
        "# 데이터\n",
        "import pandas as pd\n",
        "df = pd.DataFrame({\n",
        "    'User': list(range(1, 11)),\n",
        "    '기존방법': [60.4, 60.7, 60.5, 60.3, 60.8, 60.6, 60.2, 60.5, 60.7, 60.4],\n",
        "    '새로운방법': [59.8, 60.2, 60.1, 59.9, 59.7, 58.4, 57.0, 60.3, 59.6, 59.8]\n",
        "})\n",
        "print(df.head(2))"
      ]
    },
    {
      "cell_type": "code",
      "execution_count": 17,
      "metadata": {
        "colab": {
          "base_uri": "https://localhost:8080/"
        },
        "id": "cgV_7XCj78y9",
        "outputId": "f73b5e9d-7056-4321-e74c-9b08a5fc1fe5"
      },
      "outputs": [
        {
          "output_type": "execute_result",
          "data": {
            "text/plain": [
              "np.float64(1.0300000000000005)"
            ]
          },
          "metadata": {},
          "execution_count": 17
        }
      ],
      "source": [
        "'''\n",
        "교육과정 전후차이 ttest_rel\n",
        "'''\n",
        "#표본 평균을 구하시오\n",
        "df['diff'] = df['기존방법'] - df['새로운방법']\n",
        "df['diff'].mean()"
      ]
    },
    {
      "cell_type": "code",
      "source": [
        "#가설 검정을 위한 검정 통계량과 p-value , 문제에서 묻는것 : 학습시간\n",
        "stats.ttest_rel(df['기존방법'], df['새로운방법'], alternative='greater') #귀무가설 기각"
      ],
      "metadata": {
        "colab": {
          "base_uri": "https://localhost:8080/"
        },
        "id": "qAXUL_vmRu0h",
        "outputId": "45d51ae0-e808-4ee3-c060-b82cb7066905"
      },
      "execution_count": 19,
      "outputs": [
        {
          "output_type": "execute_result",
          "data": {
            "text/plain": [
              "TtestResult(statistic=np.float64(3.407973078114844), pvalue=np.float64(0.0038872633380070652), df=np.int64(9))"
            ]
          },
          "metadata": {},
          "execution_count": 19
        }
      ]
    },
    {
      "cell_type": "markdown",
      "metadata": {
        "id": "MU5342Fp74lz"
      },
      "source": [
        "### Section4."
      ]
    },
    {
      "cell_type": "code",
      "source": [
        "import pandas as pd\n",
        "# df = pd.read_csv(\"math.csv\")\n",
        "df = pd.read_csv(\"https://raw.githubusercontent.com/lovedlim/bigdata_analyst_cert/main/part3/ch6/math.csv\")\n",
        "print(df.head())"
      ],
      "metadata": {
        "colab": {
          "base_uri": "https://localhost:8080/"
        },
        "id": "8j386IAO1M5I",
        "outputId": "96dd7b25-0ac1-45f9-c36d-d6ba6b8d106e"
      },
      "execution_count": 20,
      "outputs": [
        {
          "output_type": "stream",
          "name": "stdout",
          "text": [
            "    groups  scores\n",
            "0  group_A      85\n",
            "1  group_A      88\n",
            "2  group_A      90\n",
            "3  group_A      82\n",
            "4  group_A      87\n"
          ]
        }
      ]
    },
    {
      "cell_type": "code",
      "source": [
        "'''\n",
        "4개의 다른 교육방법 > 수학성적 / 차이가 유의미한가? (독립변수 1개)\n",
        "'''\n",
        "from scipy import stats\n",
        "#정규성 확인 및 p-value\n",
        "A = df[df['groups']=='group_A']['scores'] #0.9\n",
        "B = df[df['groups']=='group_B']['scores'] #0.6\n",
        "C = df[df['groups']=='group_C']['scores'] #0.4\n",
        "D = df[df['groups']=='group_D']['scores'] #0.2\n",
        "print(stats.shapiro(A))\n",
        "print(stats.shapiro(B))\n",
        "print(stats.shapiro(C))\n",
        "print(stats.shapiro(D))\n",
        "#등분산성 확인 및 p-value\n",
        "print(stats.levene(A,B,C,D))\n",
        "#검정결과 기각/채택\n",
        "from statsmodels.formula.api import ols\n",
        "model = ols('scores~groups',df).fit()"
      ],
      "metadata": {
        "colab": {
          "base_uri": "https://localhost:8080/"
        },
        "id": "JeIkwEkY1wFY",
        "outputId": "cdf54692-028c-441b-a6e8-bfe0370a7b3d"
      },
      "execution_count": 32,
      "outputs": [
        {
          "output_type": "stream",
          "name": "stdout",
          "text": [
            "ShapiroResult(statistic=np.float64(0.9715896670696531), pvalue=np.float64(0.9051800443853569))\n",
            "ShapiroResult(statistic=np.float64(0.9499422438060351), pvalue=np.float64(0.6678172590861611))\n",
            "ShapiroResult(statistic=np.float64(0.9299424104842702), pvalue=np.float64(0.44732595113862045))\n",
            "ShapiroResult(statistic=np.float64(0.9065684572704982), pvalue=np.float64(0.25824165549017347))\n",
            "LeveneResult(statistic=np.float64(1.757685352622062), pvalue=np.float64(0.17270284963232108))\n"
          ]
        }
      ]
    },
    {
      "cell_type": "code",
      "source": [
        "#테이블\n",
        "from statsmodels.stats.anova import anova_lm\n",
        "anova_lm(model)\n",
        "#그룹변수의 자유도 ==> 3\n",
        "#잔차의 자유도  ==> 36\n",
        "#성적의 제곱합  ==> 411.8\n",
        "#성적의 평균 제곱  ==> 137.2\n",
        "#F-통계량 ==> 34.17\n",
        "#성적에 대한 p-value ==> 1.240642e-10"
      ],
      "metadata": {
        "colab": {
          "base_uri": "https://localhost:8080/",
          "height": 112
        },
        "id": "qVILWYjPt6ly",
        "outputId": "1b40aef4-58c2-4dd3-e1aa-e6567c1f4730"
      },
      "execution_count": 33,
      "outputs": [
        {
          "output_type": "execute_result",
          "data": {
            "text/plain": [
              "            df  sum_sq     mean_sq          F        PR(>F)\n",
              "groups     3.0   411.8  137.266667  34.174274  1.240642e-10\n",
              "Residual  36.0   144.6    4.016667        NaN           NaN"
            ],
            "text/html": [
              "\n",
              "  <div id=\"df-202f95a1-6894-4985-8133-46a1e3134e07\" class=\"colab-df-container\">\n",
              "    <div>\n",
              "<style scoped>\n",
              "    .dataframe tbody tr th:only-of-type {\n",
              "        vertical-align: middle;\n",
              "    }\n",
              "\n",
              "    .dataframe tbody tr th {\n",
              "        vertical-align: top;\n",
              "    }\n",
              "\n",
              "    .dataframe thead th {\n",
              "        text-align: right;\n",
              "    }\n",
              "</style>\n",
              "<table border=\"1\" class=\"dataframe\">\n",
              "  <thead>\n",
              "    <tr style=\"text-align: right;\">\n",
              "      <th></th>\n",
              "      <th>df</th>\n",
              "      <th>sum_sq</th>\n",
              "      <th>mean_sq</th>\n",
              "      <th>F</th>\n",
              "      <th>PR(&gt;F)</th>\n",
              "    </tr>\n",
              "  </thead>\n",
              "  <tbody>\n",
              "    <tr>\n",
              "      <th>groups</th>\n",
              "      <td>3.0</td>\n",
              "      <td>411.8</td>\n",
              "      <td>137.266667</td>\n",
              "      <td>34.174274</td>\n",
              "      <td>1.240642e-10</td>\n",
              "    </tr>\n",
              "    <tr>\n",
              "      <th>Residual</th>\n",
              "      <td>36.0</td>\n",
              "      <td>144.6</td>\n",
              "      <td>4.016667</td>\n",
              "      <td>NaN</td>\n",
              "      <td>NaN</td>\n",
              "    </tr>\n",
              "  </tbody>\n",
              "</table>\n",
              "</div>\n",
              "    <div class=\"colab-df-buttons\">\n",
              "\n",
              "  <div class=\"colab-df-container\">\n",
              "    <button class=\"colab-df-convert\" onclick=\"convertToInteractive('df-202f95a1-6894-4985-8133-46a1e3134e07')\"\n",
              "            title=\"Convert this dataframe to an interactive table.\"\n",
              "            style=\"display:none;\">\n",
              "\n",
              "  <svg xmlns=\"http://www.w3.org/2000/svg\" height=\"24px\" viewBox=\"0 -960 960 960\">\n",
              "    <path d=\"M120-120v-720h720v720H120Zm60-500h600v-160H180v160Zm220 220h160v-160H400v160Zm0 220h160v-160H400v160ZM180-400h160v-160H180v160Zm440 0h160v-160H620v160ZM180-180h160v-160H180v160Zm440 0h160v-160H620v160Z\"/>\n",
              "  </svg>\n",
              "    </button>\n",
              "\n",
              "  <style>\n",
              "    .colab-df-container {\n",
              "      display:flex;\n",
              "      gap: 12px;\n",
              "    }\n",
              "\n",
              "    .colab-df-convert {\n",
              "      background-color: #E8F0FE;\n",
              "      border: none;\n",
              "      border-radius: 50%;\n",
              "      cursor: pointer;\n",
              "      display: none;\n",
              "      fill: #1967D2;\n",
              "      height: 32px;\n",
              "      padding: 0 0 0 0;\n",
              "      width: 32px;\n",
              "    }\n",
              "\n",
              "    .colab-df-convert:hover {\n",
              "      background-color: #E2EBFA;\n",
              "      box-shadow: 0px 1px 2px rgba(60, 64, 67, 0.3), 0px 1px 3px 1px rgba(60, 64, 67, 0.15);\n",
              "      fill: #174EA6;\n",
              "    }\n",
              "\n",
              "    .colab-df-buttons div {\n",
              "      margin-bottom: 4px;\n",
              "    }\n",
              "\n",
              "    [theme=dark] .colab-df-convert {\n",
              "      background-color: #3B4455;\n",
              "      fill: #D2E3FC;\n",
              "    }\n",
              "\n",
              "    [theme=dark] .colab-df-convert:hover {\n",
              "      background-color: #434B5C;\n",
              "      box-shadow: 0px 1px 3px 1px rgba(0, 0, 0, 0.15);\n",
              "      filter: drop-shadow(0px 1px 2px rgba(0, 0, 0, 0.3));\n",
              "      fill: #FFFFFF;\n",
              "    }\n",
              "  </style>\n",
              "\n",
              "    <script>\n",
              "      const buttonEl =\n",
              "        document.querySelector('#df-202f95a1-6894-4985-8133-46a1e3134e07 button.colab-df-convert');\n",
              "      buttonEl.style.display =\n",
              "        google.colab.kernel.accessAllowed ? 'block' : 'none';\n",
              "\n",
              "      async function convertToInteractive(key) {\n",
              "        const element = document.querySelector('#df-202f95a1-6894-4985-8133-46a1e3134e07');\n",
              "        const dataTable =\n",
              "          await google.colab.kernel.invokeFunction('convertToInteractive',\n",
              "                                                    [key], {});\n",
              "        if (!dataTable) return;\n",
              "\n",
              "        const docLinkHtml = 'Like what you see? Visit the ' +\n",
              "          '<a target=\"_blank\" href=https://colab.research.google.com/notebooks/data_table.ipynb>data table notebook</a>'\n",
              "          + ' to learn more about interactive tables.';\n",
              "        element.innerHTML = '';\n",
              "        dataTable['output_type'] = 'display_data';\n",
              "        await google.colab.output.renderOutput(dataTable, element);\n",
              "        const docLink = document.createElement('div');\n",
              "        docLink.innerHTML = docLinkHtml;\n",
              "        element.appendChild(docLink);\n",
              "      }\n",
              "    </script>\n",
              "  </div>\n",
              "\n",
              "\n",
              "    <div id=\"df-bc351c9e-b9dd-4ba9-89dd-b72dad330c96\">\n",
              "      <button class=\"colab-df-quickchart\" onclick=\"quickchart('df-bc351c9e-b9dd-4ba9-89dd-b72dad330c96')\"\n",
              "                title=\"Suggest charts\"\n",
              "                style=\"display:none;\">\n",
              "\n",
              "<svg xmlns=\"http://www.w3.org/2000/svg\" height=\"24px\"viewBox=\"0 0 24 24\"\n",
              "     width=\"24px\">\n",
              "    <g>\n",
              "        <path d=\"M19 3H5c-1.1 0-2 .9-2 2v14c0 1.1.9 2 2 2h14c1.1 0 2-.9 2-2V5c0-1.1-.9-2-2-2zM9 17H7v-7h2v7zm4 0h-2V7h2v10zm4 0h-2v-4h2v4z\"/>\n",
              "    </g>\n",
              "</svg>\n",
              "      </button>\n",
              "\n",
              "<style>\n",
              "  .colab-df-quickchart {\n",
              "      --bg-color: #E8F0FE;\n",
              "      --fill-color: #1967D2;\n",
              "      --hover-bg-color: #E2EBFA;\n",
              "      --hover-fill-color: #174EA6;\n",
              "      --disabled-fill-color: #AAA;\n",
              "      --disabled-bg-color: #DDD;\n",
              "  }\n",
              "\n",
              "  [theme=dark] .colab-df-quickchart {\n",
              "      --bg-color: #3B4455;\n",
              "      --fill-color: #D2E3FC;\n",
              "      --hover-bg-color: #434B5C;\n",
              "      --hover-fill-color: #FFFFFF;\n",
              "      --disabled-bg-color: #3B4455;\n",
              "      --disabled-fill-color: #666;\n",
              "  }\n",
              "\n",
              "  .colab-df-quickchart {\n",
              "    background-color: var(--bg-color);\n",
              "    border: none;\n",
              "    border-radius: 50%;\n",
              "    cursor: pointer;\n",
              "    display: none;\n",
              "    fill: var(--fill-color);\n",
              "    height: 32px;\n",
              "    padding: 0;\n",
              "    width: 32px;\n",
              "  }\n",
              "\n",
              "  .colab-df-quickchart:hover {\n",
              "    background-color: var(--hover-bg-color);\n",
              "    box-shadow: 0 1px 2px rgba(60, 64, 67, 0.3), 0 1px 3px 1px rgba(60, 64, 67, 0.15);\n",
              "    fill: var(--button-hover-fill-color);\n",
              "  }\n",
              "\n",
              "  .colab-df-quickchart-complete:disabled,\n",
              "  .colab-df-quickchart-complete:disabled:hover {\n",
              "    background-color: var(--disabled-bg-color);\n",
              "    fill: var(--disabled-fill-color);\n",
              "    box-shadow: none;\n",
              "  }\n",
              "\n",
              "  .colab-df-spinner {\n",
              "    border: 2px solid var(--fill-color);\n",
              "    border-color: transparent;\n",
              "    border-bottom-color: var(--fill-color);\n",
              "    animation:\n",
              "      spin 1s steps(1) infinite;\n",
              "  }\n",
              "\n",
              "  @keyframes spin {\n",
              "    0% {\n",
              "      border-color: transparent;\n",
              "      border-bottom-color: var(--fill-color);\n",
              "      border-left-color: var(--fill-color);\n",
              "    }\n",
              "    20% {\n",
              "      border-color: transparent;\n",
              "      border-left-color: var(--fill-color);\n",
              "      border-top-color: var(--fill-color);\n",
              "    }\n",
              "    30% {\n",
              "      border-color: transparent;\n",
              "      border-left-color: var(--fill-color);\n",
              "      border-top-color: var(--fill-color);\n",
              "      border-right-color: var(--fill-color);\n",
              "    }\n",
              "    40% {\n",
              "      border-color: transparent;\n",
              "      border-right-color: var(--fill-color);\n",
              "      border-top-color: var(--fill-color);\n",
              "    }\n",
              "    60% {\n",
              "      border-color: transparent;\n",
              "      border-right-color: var(--fill-color);\n",
              "    }\n",
              "    80% {\n",
              "      border-color: transparent;\n",
              "      border-right-color: var(--fill-color);\n",
              "      border-bottom-color: var(--fill-color);\n",
              "    }\n",
              "    90% {\n",
              "      border-color: transparent;\n",
              "      border-bottom-color: var(--fill-color);\n",
              "    }\n",
              "  }\n",
              "</style>\n",
              "\n",
              "      <script>\n",
              "        async function quickchart(key) {\n",
              "          const quickchartButtonEl =\n",
              "            document.querySelector('#' + key + ' button');\n",
              "          quickchartButtonEl.disabled = true;  // To prevent multiple clicks.\n",
              "          quickchartButtonEl.classList.add('colab-df-spinner');\n",
              "          try {\n",
              "            const charts = await google.colab.kernel.invokeFunction(\n",
              "                'suggestCharts', [key], {});\n",
              "          } catch (error) {\n",
              "            console.error('Error during call to suggestCharts:', error);\n",
              "          }\n",
              "          quickchartButtonEl.classList.remove('colab-df-spinner');\n",
              "          quickchartButtonEl.classList.add('colab-df-quickchart-complete');\n",
              "        }\n",
              "        (() => {\n",
              "          let quickchartButtonEl =\n",
              "            document.querySelector('#df-bc351c9e-b9dd-4ba9-89dd-b72dad330c96 button');\n",
              "          quickchartButtonEl.style.display =\n",
              "            google.colab.kernel.accessAllowed ? 'block' : 'none';\n",
              "        })();\n",
              "      </script>\n",
              "    </div>\n",
              "\n",
              "    </div>\n",
              "  </div>\n"
            ],
            "application/vnd.google.colaboratory.intrinsic+json": {
              "type": "dataframe",
              "summary": "{\n  \"name\": \"#\\uc131\\uc801\\uc5d0 \\ub300\\ud55c p-value\",\n  \"rows\": 2,\n  \"fields\": [\n    {\n      \"column\": \"df\",\n      \"properties\": {\n        \"dtype\": \"number\",\n        \"std\": 23.33452377915607,\n        \"min\": 3.0,\n        \"max\": 36.0,\n        \"num_unique_values\": 2,\n        \"samples\": [\n          36.0,\n          3.0\n        ],\n        \"semantic_type\": \"\",\n        \"description\": \"\"\n      }\n    },\n    {\n      \"column\": \"sum_sq\",\n      \"properties\": {\n        \"dtype\": \"number\",\n        \"std\": 188.93893193304356,\n        \"min\": 144.60000000000002,\n        \"max\": 411.7999999999973,\n        \"num_unique_values\": 2,\n        \"samples\": [\n          144.60000000000002,\n          411.7999999999973\n        ],\n        \"semantic_type\": \"\",\n        \"description\": \"\"\n      }\n    },\n    {\n      \"column\": \"mean_sq\",\n      \"properties\": {\n        \"dtype\": \"number\",\n        \"std\": 94.22197859310683,\n        \"min\": 4.0166666666666675,\n        \"max\": 137.26666666666577,\n        \"num_unique_values\": 2,\n        \"samples\": [\n          4.0166666666666675,\n          137.26666666666577\n        ],\n        \"semantic_type\": \"\",\n        \"description\": \"\"\n      }\n    },\n    {\n      \"column\": \"F\",\n      \"properties\": {\n        \"dtype\": \"number\",\n        \"std\": null,\n        \"min\": 34.174273858920934,\n        \"max\": 34.174273858920934,\n        \"num_unique_values\": 1,\n        \"samples\": [\n          34.174273858920934\n        ],\n        \"semantic_type\": \"\",\n        \"description\": \"\"\n      }\n    },\n    {\n      \"column\": \"PR(>F)\",\n      \"properties\": {\n        \"dtype\": \"number\",\n        \"std\": null,\n        \"min\": 1.2406415428511555e-10,\n        \"max\": 1.2406415428511555e-10,\n        \"num_unique_values\": 1,\n        \"samples\": [\n          1.2406415428511555e-10\n        ],\n        \"semantic_type\": \"\",\n        \"description\": \"\"\n      }\n    }\n  ]\n}"
            }
          },
          "metadata": {},
          "execution_count": 33
        }
      ]
    },
    {
      "cell_type": "markdown",
      "source": [
        "### Section5."
      ],
      "metadata": {
        "id": "Zmtdhqk-2_XA"
      }
    },
    {
      "cell_type": "code",
      "source": [
        "# 데이터\n",
        "import pandas as pd\n",
        "# df = pd.read_csv(\"tomato2.csv\")\n",
        "df = pd.read_csv(\"https://raw.githubusercontent.com/lovedlim/bigdata_analyst_cert/main/part3/ch6/tomato2.csv\")\n",
        "df.columns=['bca','ddd', 'su']\n",
        "df.head()"
      ],
      "metadata": {
        "id": "DU30cD1I2-5F",
        "colab": {
          "base_uri": "https://localhost:8080/",
          "height": 206
        },
        "outputId": "f0228758-7196-4fbb-f0fc-adc970522b68"
      },
      "execution_count": 62,
      "outputs": [
        {
          "output_type": "execute_result",
          "data": {
            "text/plain": [
              "  bca  ddd   su\n",
              "0   A    1  514\n",
              "1   A    1  480\n",
              "2   A    1  507\n",
              "3   A    2  452\n",
              "4   A    2  526"
            ],
            "text/html": [
              "\n",
              "  <div id=\"df-d911b749-33fa-4a30-b8f4-3cd530f777b6\" class=\"colab-df-container\">\n",
              "    <div>\n",
              "<style scoped>\n",
              "    .dataframe tbody tr th:only-of-type {\n",
              "        vertical-align: middle;\n",
              "    }\n",
              "\n",
              "    .dataframe tbody tr th {\n",
              "        vertical-align: top;\n",
              "    }\n",
              "\n",
              "    .dataframe thead th {\n",
              "        text-align: right;\n",
              "    }\n",
              "</style>\n",
              "<table border=\"1\" class=\"dataframe\">\n",
              "  <thead>\n",
              "    <tr style=\"text-align: right;\">\n",
              "      <th></th>\n",
              "      <th>bca</th>\n",
              "      <th>ddd</th>\n",
              "      <th>su</th>\n",
              "    </tr>\n",
              "  </thead>\n",
              "  <tbody>\n",
              "    <tr>\n",
              "      <th>0</th>\n",
              "      <td>A</td>\n",
              "      <td>1</td>\n",
              "      <td>514</td>\n",
              "    </tr>\n",
              "    <tr>\n",
              "      <th>1</th>\n",
              "      <td>A</td>\n",
              "      <td>1</td>\n",
              "      <td>480</td>\n",
              "    </tr>\n",
              "    <tr>\n",
              "      <th>2</th>\n",
              "      <td>A</td>\n",
              "      <td>1</td>\n",
              "      <td>507</td>\n",
              "    </tr>\n",
              "    <tr>\n",
              "      <th>3</th>\n",
              "      <td>A</td>\n",
              "      <td>2</td>\n",
              "      <td>452</td>\n",
              "    </tr>\n",
              "    <tr>\n",
              "      <th>4</th>\n",
              "      <td>A</td>\n",
              "      <td>2</td>\n",
              "      <td>526</td>\n",
              "    </tr>\n",
              "  </tbody>\n",
              "</table>\n",
              "</div>\n",
              "    <div class=\"colab-df-buttons\">\n",
              "\n",
              "  <div class=\"colab-df-container\">\n",
              "    <button class=\"colab-df-convert\" onclick=\"convertToInteractive('df-d911b749-33fa-4a30-b8f4-3cd530f777b6')\"\n",
              "            title=\"Convert this dataframe to an interactive table.\"\n",
              "            style=\"display:none;\">\n",
              "\n",
              "  <svg xmlns=\"http://www.w3.org/2000/svg\" height=\"24px\" viewBox=\"0 -960 960 960\">\n",
              "    <path d=\"M120-120v-720h720v720H120Zm60-500h600v-160H180v160Zm220 220h160v-160H400v160Zm0 220h160v-160H400v160ZM180-400h160v-160H180v160Zm440 0h160v-160H620v160ZM180-180h160v-160H180v160Zm440 0h160v-160H620v160Z\"/>\n",
              "  </svg>\n",
              "    </button>\n",
              "\n",
              "  <style>\n",
              "    .colab-df-container {\n",
              "      display:flex;\n",
              "      gap: 12px;\n",
              "    }\n",
              "\n",
              "    .colab-df-convert {\n",
              "      background-color: #E8F0FE;\n",
              "      border: none;\n",
              "      border-radius: 50%;\n",
              "      cursor: pointer;\n",
              "      display: none;\n",
              "      fill: #1967D2;\n",
              "      height: 32px;\n",
              "      padding: 0 0 0 0;\n",
              "      width: 32px;\n",
              "    }\n",
              "\n",
              "    .colab-df-convert:hover {\n",
              "      background-color: #E2EBFA;\n",
              "      box-shadow: 0px 1px 2px rgba(60, 64, 67, 0.3), 0px 1px 3px 1px rgba(60, 64, 67, 0.15);\n",
              "      fill: #174EA6;\n",
              "    }\n",
              "\n",
              "    .colab-df-buttons div {\n",
              "      margin-bottom: 4px;\n",
              "    }\n",
              "\n",
              "    [theme=dark] .colab-df-convert {\n",
              "      background-color: #3B4455;\n",
              "      fill: #D2E3FC;\n",
              "    }\n",
              "\n",
              "    [theme=dark] .colab-df-convert:hover {\n",
              "      background-color: #434B5C;\n",
              "      box-shadow: 0px 1px 3px 1px rgba(0, 0, 0, 0.15);\n",
              "      filter: drop-shadow(0px 1px 2px rgba(0, 0, 0, 0.3));\n",
              "      fill: #FFFFFF;\n",
              "    }\n",
              "  </style>\n",
              "\n",
              "    <script>\n",
              "      const buttonEl =\n",
              "        document.querySelector('#df-d911b749-33fa-4a30-b8f4-3cd530f777b6 button.colab-df-convert');\n",
              "      buttonEl.style.display =\n",
              "        google.colab.kernel.accessAllowed ? 'block' : 'none';\n",
              "\n",
              "      async function convertToInteractive(key) {\n",
              "        const element = document.querySelector('#df-d911b749-33fa-4a30-b8f4-3cd530f777b6');\n",
              "        const dataTable =\n",
              "          await google.colab.kernel.invokeFunction('convertToInteractive',\n",
              "                                                    [key], {});\n",
              "        if (!dataTable) return;\n",
              "\n",
              "        const docLinkHtml = 'Like what you see? Visit the ' +\n",
              "          '<a target=\"_blank\" href=https://colab.research.google.com/notebooks/data_table.ipynb>data table notebook</a>'\n",
              "          + ' to learn more about interactive tables.';\n",
              "        element.innerHTML = '';\n",
              "        dataTable['output_type'] = 'display_data';\n",
              "        await google.colab.output.renderOutput(dataTable, element);\n",
              "        const docLink = document.createElement('div');\n",
              "        docLink.innerHTML = docLinkHtml;\n",
              "        element.appendChild(docLink);\n",
              "      }\n",
              "    </script>\n",
              "  </div>\n",
              "\n",
              "\n",
              "    <div id=\"df-50f124c9-d093-4f22-ab9e-19650bae20cd\">\n",
              "      <button class=\"colab-df-quickchart\" onclick=\"quickchart('df-50f124c9-d093-4f22-ab9e-19650bae20cd')\"\n",
              "                title=\"Suggest charts\"\n",
              "                style=\"display:none;\">\n",
              "\n",
              "<svg xmlns=\"http://www.w3.org/2000/svg\" height=\"24px\"viewBox=\"0 0 24 24\"\n",
              "     width=\"24px\">\n",
              "    <g>\n",
              "        <path d=\"M19 3H5c-1.1 0-2 .9-2 2v14c0 1.1.9 2 2 2h14c1.1 0 2-.9 2-2V5c0-1.1-.9-2-2-2zM9 17H7v-7h2v7zm4 0h-2V7h2v10zm4 0h-2v-4h2v4z\"/>\n",
              "    </g>\n",
              "</svg>\n",
              "      </button>\n",
              "\n",
              "<style>\n",
              "  .colab-df-quickchart {\n",
              "      --bg-color: #E8F0FE;\n",
              "      --fill-color: #1967D2;\n",
              "      --hover-bg-color: #E2EBFA;\n",
              "      --hover-fill-color: #174EA6;\n",
              "      --disabled-fill-color: #AAA;\n",
              "      --disabled-bg-color: #DDD;\n",
              "  }\n",
              "\n",
              "  [theme=dark] .colab-df-quickchart {\n",
              "      --bg-color: #3B4455;\n",
              "      --fill-color: #D2E3FC;\n",
              "      --hover-bg-color: #434B5C;\n",
              "      --hover-fill-color: #FFFFFF;\n",
              "      --disabled-bg-color: #3B4455;\n",
              "      --disabled-fill-color: #666;\n",
              "  }\n",
              "\n",
              "  .colab-df-quickchart {\n",
              "    background-color: var(--bg-color);\n",
              "    border: none;\n",
              "    border-radius: 50%;\n",
              "    cursor: pointer;\n",
              "    display: none;\n",
              "    fill: var(--fill-color);\n",
              "    height: 32px;\n",
              "    padding: 0;\n",
              "    width: 32px;\n",
              "  }\n",
              "\n",
              "  .colab-df-quickchart:hover {\n",
              "    background-color: var(--hover-bg-color);\n",
              "    box-shadow: 0 1px 2px rgba(60, 64, 67, 0.3), 0 1px 3px 1px rgba(60, 64, 67, 0.15);\n",
              "    fill: var(--button-hover-fill-color);\n",
              "  }\n",
              "\n",
              "  .colab-df-quickchart-complete:disabled,\n",
              "  .colab-df-quickchart-complete:disabled:hover {\n",
              "    background-color: var(--disabled-bg-color);\n",
              "    fill: var(--disabled-fill-color);\n",
              "    box-shadow: none;\n",
              "  }\n",
              "\n",
              "  .colab-df-spinner {\n",
              "    border: 2px solid var(--fill-color);\n",
              "    border-color: transparent;\n",
              "    border-bottom-color: var(--fill-color);\n",
              "    animation:\n",
              "      spin 1s steps(1) infinite;\n",
              "  }\n",
              "\n",
              "  @keyframes spin {\n",
              "    0% {\n",
              "      border-color: transparent;\n",
              "      border-bottom-color: var(--fill-color);\n",
              "      border-left-color: var(--fill-color);\n",
              "    }\n",
              "    20% {\n",
              "      border-color: transparent;\n",
              "      border-left-color: var(--fill-color);\n",
              "      border-top-color: var(--fill-color);\n",
              "    }\n",
              "    30% {\n",
              "      border-color: transparent;\n",
              "      border-left-color: var(--fill-color);\n",
              "      border-top-color: var(--fill-color);\n",
              "      border-right-color: var(--fill-color);\n",
              "    }\n",
              "    40% {\n",
              "      border-color: transparent;\n",
              "      border-right-color: var(--fill-color);\n",
              "      border-top-color: var(--fill-color);\n",
              "    }\n",
              "    60% {\n",
              "      border-color: transparent;\n",
              "      border-right-color: var(--fill-color);\n",
              "    }\n",
              "    80% {\n",
              "      border-color: transparent;\n",
              "      border-right-color: var(--fill-color);\n",
              "      border-bottom-color: var(--fill-color);\n",
              "    }\n",
              "    90% {\n",
              "      border-color: transparent;\n",
              "      border-bottom-color: var(--fill-color);\n",
              "    }\n",
              "  }\n",
              "</style>\n",
              "\n",
              "      <script>\n",
              "        async function quickchart(key) {\n",
              "          const quickchartButtonEl =\n",
              "            document.querySelector('#' + key + ' button');\n",
              "          quickchartButtonEl.disabled = true;  // To prevent multiple clicks.\n",
              "          quickchartButtonEl.classList.add('colab-df-spinner');\n",
              "          try {\n",
              "            const charts = await google.colab.kernel.invokeFunction(\n",
              "                'suggestCharts', [key], {});\n",
              "          } catch (error) {\n",
              "            console.error('Error during call to suggestCharts:', error);\n",
              "          }\n",
              "          quickchartButtonEl.classList.remove('colab-df-spinner');\n",
              "          quickchartButtonEl.classList.add('colab-df-quickchart-complete');\n",
              "        }\n",
              "        (() => {\n",
              "          let quickchartButtonEl =\n",
              "            document.querySelector('#df-50f124c9-d093-4f22-ab9e-19650bae20cd button');\n",
              "          quickchartButtonEl.style.display =\n",
              "            google.colab.kernel.accessAllowed ? 'block' : 'none';\n",
              "        })();\n",
              "      </script>\n",
              "    </div>\n",
              "\n",
              "    </div>\n",
              "  </div>\n"
            ],
            "application/vnd.google.colaboratory.intrinsic+json": {
              "type": "dataframe",
              "variable_name": "df",
              "summary": "{\n  \"name\": \"df\",\n  \"rows\": 36,\n  \"fields\": [\n    {\n      \"column\": \"bca\",\n      \"properties\": {\n        \"dtype\": \"category\",\n        \"num_unique_values\": 3,\n        \"samples\": [\n          \"A\",\n          \"B\",\n          \"C\"\n        ],\n        \"semantic_type\": \"\",\n        \"description\": \"\"\n      }\n    },\n    {\n      \"column\": \"ddd\",\n      \"properties\": {\n        \"dtype\": \"number\",\n        \"std\": 1,\n        \"min\": 1,\n        \"max\": 4,\n        \"num_unique_values\": 4,\n        \"samples\": [\n          2,\n          4,\n          1\n        ],\n        \"semantic_type\": \"\",\n        \"description\": \"\"\n      }\n    },\n    {\n      \"column\": \"su\",\n      \"properties\": {\n        \"dtype\": \"number\",\n        \"std\": 33,\n        \"min\": 444,\n        \"max\": 595,\n        \"num_unique_values\": 32,\n        \"samples\": [\n          522,\n          504,\n          459\n        ],\n        \"semantic_type\": \"\",\n        \"description\": \"\"\n      }\n    }\n  ]\n}"
            }
          },
          "metadata": {},
          "execution_count": 62
        }
      ]
    },
    {
      "cell_type": "code",
      "source": [
        "'''\n",
        "세 가지 다른 비료 유형 / 네 가지 다른 물주기 실험\n",
        "비료에따른 효과, 물 주기에 따른 효과, 비료 유형과 물 주기 상호작용 효과\n",
        "'''\n",
        "#비료 유형에 따른 토마토 수확량의 평균에 차이가 있는지를 검정하기 위한 검정 통계량 및 p-value 3.184685 0.059334 채택\n",
        "#물 주기 유형에 따른 토마토 수확량의 평균에 차이가 있는지를 검정하기 위한 검정 통계량 및 p-value 3.661490\t 0.026460 기각\n",
        "#비료 유형과 물주기 간의 상호 작용 검정 통계량 및 p-value 0.863491 0.535426 채택\n",
        "from statsmodels.formula.api import ols\n",
        "model = ols('su ~ C(bca) * C(ddd)',df, eval_env=0).fit()\n",
        "\n",
        "import statsmodels.api as sm\n",
        "sm.stats.anova_lm(model)"
      ],
      "metadata": {
        "id": "1J0N5JajP93i",
        "colab": {
          "base_uri": "https://localhost:8080/",
          "height": 175
        },
        "outputId": "3123ef33-56d5-45d9-9894-98f6cc30aa43"
      },
      "execution_count": 67,
      "outputs": [
        {
          "output_type": "execute_result",
          "data": {
            "text/plain": [
              "                 df        sum_sq      mean_sq         F    PR(>F)\n",
              "C(bca)          2.0   5251.722222  2625.861111  3.184685  0.059334\n",
              "C(ddd)          3.0   9057.000000  3019.000000  3.661490  0.026460\n",
              "C(bca):C(ddd)   6.0   4271.833333   711.972222  0.863491  0.535426\n",
              "Residual       24.0  19788.666667   824.527778       NaN       NaN"
            ],
            "text/html": [
              "\n",
              "  <div id=\"df-359e139d-da4a-4fe8-a131-b298fc9dde1c\" class=\"colab-df-container\">\n",
              "    <div>\n",
              "<style scoped>\n",
              "    .dataframe tbody tr th:only-of-type {\n",
              "        vertical-align: middle;\n",
              "    }\n",
              "\n",
              "    .dataframe tbody tr th {\n",
              "        vertical-align: top;\n",
              "    }\n",
              "\n",
              "    .dataframe thead th {\n",
              "        text-align: right;\n",
              "    }\n",
              "</style>\n",
              "<table border=\"1\" class=\"dataframe\">\n",
              "  <thead>\n",
              "    <tr style=\"text-align: right;\">\n",
              "      <th></th>\n",
              "      <th>df</th>\n",
              "      <th>sum_sq</th>\n",
              "      <th>mean_sq</th>\n",
              "      <th>F</th>\n",
              "      <th>PR(&gt;F)</th>\n",
              "    </tr>\n",
              "  </thead>\n",
              "  <tbody>\n",
              "    <tr>\n",
              "      <th>C(bca)</th>\n",
              "      <td>2.0</td>\n",
              "      <td>5251.722222</td>\n",
              "      <td>2625.861111</td>\n",
              "      <td>3.184685</td>\n",
              "      <td>0.059334</td>\n",
              "    </tr>\n",
              "    <tr>\n",
              "      <th>C(ddd)</th>\n",
              "      <td>3.0</td>\n",
              "      <td>9057.000000</td>\n",
              "      <td>3019.000000</td>\n",
              "      <td>3.661490</td>\n",
              "      <td>0.026460</td>\n",
              "    </tr>\n",
              "    <tr>\n",
              "      <th>C(bca):C(ddd)</th>\n",
              "      <td>6.0</td>\n",
              "      <td>4271.833333</td>\n",
              "      <td>711.972222</td>\n",
              "      <td>0.863491</td>\n",
              "      <td>0.535426</td>\n",
              "    </tr>\n",
              "    <tr>\n",
              "      <th>Residual</th>\n",
              "      <td>24.0</td>\n",
              "      <td>19788.666667</td>\n",
              "      <td>824.527778</td>\n",
              "      <td>NaN</td>\n",
              "      <td>NaN</td>\n",
              "    </tr>\n",
              "  </tbody>\n",
              "</table>\n",
              "</div>\n",
              "    <div class=\"colab-df-buttons\">\n",
              "\n",
              "  <div class=\"colab-df-container\">\n",
              "    <button class=\"colab-df-convert\" onclick=\"convertToInteractive('df-359e139d-da4a-4fe8-a131-b298fc9dde1c')\"\n",
              "            title=\"Convert this dataframe to an interactive table.\"\n",
              "            style=\"display:none;\">\n",
              "\n",
              "  <svg xmlns=\"http://www.w3.org/2000/svg\" height=\"24px\" viewBox=\"0 -960 960 960\">\n",
              "    <path d=\"M120-120v-720h720v720H120Zm60-500h600v-160H180v160Zm220 220h160v-160H400v160Zm0 220h160v-160H400v160ZM180-400h160v-160H180v160Zm440 0h160v-160H620v160ZM180-180h160v-160H180v160Zm440 0h160v-160H620v160Z\"/>\n",
              "  </svg>\n",
              "    </button>\n",
              "\n",
              "  <style>\n",
              "    .colab-df-container {\n",
              "      display:flex;\n",
              "      gap: 12px;\n",
              "    }\n",
              "\n",
              "    .colab-df-convert {\n",
              "      background-color: #E8F0FE;\n",
              "      border: none;\n",
              "      border-radius: 50%;\n",
              "      cursor: pointer;\n",
              "      display: none;\n",
              "      fill: #1967D2;\n",
              "      height: 32px;\n",
              "      padding: 0 0 0 0;\n",
              "      width: 32px;\n",
              "    }\n",
              "\n",
              "    .colab-df-convert:hover {\n",
              "      background-color: #E2EBFA;\n",
              "      box-shadow: 0px 1px 2px rgba(60, 64, 67, 0.3), 0px 1px 3px 1px rgba(60, 64, 67, 0.15);\n",
              "      fill: #174EA6;\n",
              "    }\n",
              "\n",
              "    .colab-df-buttons div {\n",
              "      margin-bottom: 4px;\n",
              "    }\n",
              "\n",
              "    [theme=dark] .colab-df-convert {\n",
              "      background-color: #3B4455;\n",
              "      fill: #D2E3FC;\n",
              "    }\n",
              "\n",
              "    [theme=dark] .colab-df-convert:hover {\n",
              "      background-color: #434B5C;\n",
              "      box-shadow: 0px 1px 3px 1px rgba(0, 0, 0, 0.15);\n",
              "      filter: drop-shadow(0px 1px 2px rgba(0, 0, 0, 0.3));\n",
              "      fill: #FFFFFF;\n",
              "    }\n",
              "  </style>\n",
              "\n",
              "    <script>\n",
              "      const buttonEl =\n",
              "        document.querySelector('#df-359e139d-da4a-4fe8-a131-b298fc9dde1c button.colab-df-convert');\n",
              "      buttonEl.style.display =\n",
              "        google.colab.kernel.accessAllowed ? 'block' : 'none';\n",
              "\n",
              "      async function convertToInteractive(key) {\n",
              "        const element = document.querySelector('#df-359e139d-da4a-4fe8-a131-b298fc9dde1c');\n",
              "        const dataTable =\n",
              "          await google.colab.kernel.invokeFunction('convertToInteractive',\n",
              "                                                    [key], {});\n",
              "        if (!dataTable) return;\n",
              "\n",
              "        const docLinkHtml = 'Like what you see? Visit the ' +\n",
              "          '<a target=\"_blank\" href=https://colab.research.google.com/notebooks/data_table.ipynb>data table notebook</a>'\n",
              "          + ' to learn more about interactive tables.';\n",
              "        element.innerHTML = '';\n",
              "        dataTable['output_type'] = 'display_data';\n",
              "        await google.colab.output.renderOutput(dataTable, element);\n",
              "        const docLink = document.createElement('div');\n",
              "        docLink.innerHTML = docLinkHtml;\n",
              "        element.appendChild(docLink);\n",
              "      }\n",
              "    </script>\n",
              "  </div>\n",
              "\n",
              "\n",
              "    <div id=\"df-39cdee0f-1ae9-4054-86db-a570d632d517\">\n",
              "      <button class=\"colab-df-quickchart\" onclick=\"quickchart('df-39cdee0f-1ae9-4054-86db-a570d632d517')\"\n",
              "                title=\"Suggest charts\"\n",
              "                style=\"display:none;\">\n",
              "\n",
              "<svg xmlns=\"http://www.w3.org/2000/svg\" height=\"24px\"viewBox=\"0 0 24 24\"\n",
              "     width=\"24px\">\n",
              "    <g>\n",
              "        <path d=\"M19 3H5c-1.1 0-2 .9-2 2v14c0 1.1.9 2 2 2h14c1.1 0 2-.9 2-2V5c0-1.1-.9-2-2-2zM9 17H7v-7h2v7zm4 0h-2V7h2v10zm4 0h-2v-4h2v4z\"/>\n",
              "    </g>\n",
              "</svg>\n",
              "      </button>\n",
              "\n",
              "<style>\n",
              "  .colab-df-quickchart {\n",
              "      --bg-color: #E8F0FE;\n",
              "      --fill-color: #1967D2;\n",
              "      --hover-bg-color: #E2EBFA;\n",
              "      --hover-fill-color: #174EA6;\n",
              "      --disabled-fill-color: #AAA;\n",
              "      --disabled-bg-color: #DDD;\n",
              "  }\n",
              "\n",
              "  [theme=dark] .colab-df-quickchart {\n",
              "      --bg-color: #3B4455;\n",
              "      --fill-color: #D2E3FC;\n",
              "      --hover-bg-color: #434B5C;\n",
              "      --hover-fill-color: #FFFFFF;\n",
              "      --disabled-bg-color: #3B4455;\n",
              "      --disabled-fill-color: #666;\n",
              "  }\n",
              "\n",
              "  .colab-df-quickchart {\n",
              "    background-color: var(--bg-color);\n",
              "    border: none;\n",
              "    border-radius: 50%;\n",
              "    cursor: pointer;\n",
              "    display: none;\n",
              "    fill: var(--fill-color);\n",
              "    height: 32px;\n",
              "    padding: 0;\n",
              "    width: 32px;\n",
              "  }\n",
              "\n",
              "  .colab-df-quickchart:hover {\n",
              "    background-color: var(--hover-bg-color);\n",
              "    box-shadow: 0 1px 2px rgba(60, 64, 67, 0.3), 0 1px 3px 1px rgba(60, 64, 67, 0.15);\n",
              "    fill: var(--button-hover-fill-color);\n",
              "  }\n",
              "\n",
              "  .colab-df-quickchart-complete:disabled,\n",
              "  .colab-df-quickchart-complete:disabled:hover {\n",
              "    background-color: var(--disabled-bg-color);\n",
              "    fill: var(--disabled-fill-color);\n",
              "    box-shadow: none;\n",
              "  }\n",
              "\n",
              "  .colab-df-spinner {\n",
              "    border: 2px solid var(--fill-color);\n",
              "    border-color: transparent;\n",
              "    border-bottom-color: var(--fill-color);\n",
              "    animation:\n",
              "      spin 1s steps(1) infinite;\n",
              "  }\n",
              "\n",
              "  @keyframes spin {\n",
              "    0% {\n",
              "      border-color: transparent;\n",
              "      border-bottom-color: var(--fill-color);\n",
              "      border-left-color: var(--fill-color);\n",
              "    }\n",
              "    20% {\n",
              "      border-color: transparent;\n",
              "      border-left-color: var(--fill-color);\n",
              "      border-top-color: var(--fill-color);\n",
              "    }\n",
              "    30% {\n",
              "      border-color: transparent;\n",
              "      border-left-color: var(--fill-color);\n",
              "      border-top-color: var(--fill-color);\n",
              "      border-right-color: var(--fill-color);\n",
              "    }\n",
              "    40% {\n",
              "      border-color: transparent;\n",
              "      border-right-color: var(--fill-color);\n",
              "      border-top-color: var(--fill-color);\n",
              "    }\n",
              "    60% {\n",
              "      border-color: transparent;\n",
              "      border-right-color: var(--fill-color);\n",
              "    }\n",
              "    80% {\n",
              "      border-color: transparent;\n",
              "      border-right-color: var(--fill-color);\n",
              "      border-bottom-color: var(--fill-color);\n",
              "    }\n",
              "    90% {\n",
              "      border-color: transparent;\n",
              "      border-bottom-color: var(--fill-color);\n",
              "    }\n",
              "  }\n",
              "</style>\n",
              "\n",
              "      <script>\n",
              "        async function quickchart(key) {\n",
              "          const quickchartButtonEl =\n",
              "            document.querySelector('#' + key + ' button');\n",
              "          quickchartButtonEl.disabled = true;  // To prevent multiple clicks.\n",
              "          quickchartButtonEl.classList.add('colab-df-spinner');\n",
              "          try {\n",
              "            const charts = await google.colab.kernel.invokeFunction(\n",
              "                'suggestCharts', [key], {});\n",
              "          } catch (error) {\n",
              "            console.error('Error during call to suggestCharts:', error);\n",
              "          }\n",
              "          quickchartButtonEl.classList.remove('colab-df-spinner');\n",
              "          quickchartButtonEl.classList.add('colab-df-quickchart-complete');\n",
              "        }\n",
              "        (() => {\n",
              "          let quickchartButtonEl =\n",
              "            document.querySelector('#df-39cdee0f-1ae9-4054-86db-a570d632d517 button');\n",
              "          quickchartButtonEl.style.display =\n",
              "            google.colab.kernel.accessAllowed ? 'block' : 'none';\n",
              "        })();\n",
              "      </script>\n",
              "    </div>\n",
              "\n",
              "    </div>\n",
              "  </div>\n"
            ],
            "application/vnd.google.colaboratory.intrinsic+json": {
              "type": "dataframe",
              "summary": "{\n  \"name\": \"sm\",\n  \"rows\": 4,\n  \"fields\": [\n    {\n      \"column\": \"df\",\n      \"properties\": {\n        \"dtype\": \"number\",\n        \"std\": 10.307764064044152,\n        \"min\": 2.0,\n        \"max\": 24.0,\n        \"num_unique_values\": 4,\n        \"samples\": [\n          3.0,\n          24.0,\n          2.0\n        ],\n        \"semantic_type\": \"\",\n        \"description\": \"\"\n      }\n    },\n    {\n      \"column\": \"sum_sq\",\n      \"properties\": {\n        \"dtype\": \"number\",\n        \"std\": 7103.999349827232,\n        \"min\": 4271.833333333335,\n        \"max\": 19788.666666666664,\n        \"num_unique_values\": 4,\n        \"samples\": [\n          9057.00000000002,\n          19788.666666666664,\n          5251.722222222191\n        ],\n        \"semantic_type\": \"\",\n        \"description\": \"\"\n      }\n    },\n    {\n      \"column\": \"mean_sq\",\n      \"properties\": {\n        \"dtype\": \"number\",\n        \"std\": 1197.6743052466484,\n        \"min\": 711.9722222222225,\n        \"max\": 3019.000000000007,\n        \"num_unique_values\": 4,\n        \"samples\": [\n          3019.000000000007,\n          824.5277777777777,\n          2625.8611111110954\n        ],\n        \"semantic_type\": \"\",\n        \"description\": \"\"\n      }\n    },\n    {\n      \"column\": \"F\",\n      \"properties\": {\n        \"dtype\": \"number\",\n        \"std\": 1.4968902129888564,\n        \"min\": 0.8634908870397201,\n        \"max\": 3.661489741602946,\n        \"num_unique_values\": 3,\n        \"samples\": [\n          3.1846848364383464,\n          3.661489741602946,\n          0.8634908870397201\n        ],\n        \"semantic_type\": \"\",\n        \"description\": \"\"\n      }\n    },\n    {\n      \"column\": \"PR(>F)\",\n      \"properties\": {\n        \"dtype\": \"number\",\n        \"std\": 0.2848365372962738,\n        \"min\": 0.026459515831576106,\n        \"max\": 0.5354260742088475,\n        \"num_unique_values\": 3,\n        \"samples\": [\n          0.05933426455039572,\n          0.026459515831576106,\n          0.5354260742088475\n        ],\n        \"semantic_type\": \"\",\n        \"description\": \"\"\n      }\n    }\n  ]\n}"
            }
          },
          "metadata": {},
          "execution_count": 67
        }
      ]
    },
    {
      "cell_type": "markdown",
      "source": [
        "### Section6."
      ],
      "metadata": {
        "id": "MPnLvlVkTKR-"
      }
    },
    {
      "cell_type": "code",
      "source": [
        "'''\n",
        "1000명을 대상으로 교통사고 경험수 조사\n",
        "1 :500, 2: 250, 3:100 4:70 5회이상 30\n",
        "1 60% 2 25% 3 8% 4 5% 5회 2%\n",
        "전국적인 경향을 따르는가?\n",
        "'''\n",
        "#교통사고 경험자 중 5회 이상의 비율 구하기\n",
        "print(30/1000)\n",
        "#이 도시 운전자들의 교통사고 경험수 분포가 전국적인 경향을 따르는가?\n",
        "from scipy.stats import chisquare\n",
        "observed = [550, 250, 100, 70, 30]\n",
        "expected = [1000*0.6, 1000*0.25, 1000*0.08,1000*0.05, 1000*0.02]\n",
        "chisquare(observed, expected)\n"
      ],
      "metadata": {
        "id": "eXPWPwWuTDql",
        "colab": {
          "base_uri": "https://localhost:8080/"
        },
        "outputId": "6a2f62e6-6e5a-4349-b8fa-39bb13b86003"
      },
      "execution_count": 71,
      "outputs": [
        {
          "output_type": "stream",
          "name": "stdout",
          "text": [
            "0.03\n"
          ]
        },
        {
          "output_type": "execute_result",
          "data": {
            "text/plain": [
              "Power_divergenceResult(statistic=np.float64(22.166666666666668), pvalue=np.float64(0.00018567620386641427))"
            ]
          },
          "metadata": {},
          "execution_count": 71
        }
      ]
    },
    {
      "cell_type": "markdown",
      "source": [
        "### Section7."
      ],
      "metadata": {
        "id": "0zBxYKgtTLyd"
      }
    },
    {
      "cell_type": "code",
      "source": [
        "'''\n",
        "두 캠프 학생들 사이에서 주최한 세미나에 참여하려면 등록해야한다.\n",
        "등록 여부 조사한 결과 >> df\n",
        "캠프와 세미나 등록여부가 독립적인가?\n",
        "'''\n",
        "import pandas as pd\n",
        "\n",
        "# 데이터\n",
        "df = pd.DataFrame({\n",
        "        '캠프': ['빅분기']*80 + ['정처기']*100,\n",
        "        '등록여부': ['등록']*50 + ['등록안함']*30 + ['등록']*60 + ['등록안함']*40\n",
        "})\n",
        "print(df.head())"
      ],
      "metadata": {
        "id": "hiW56w1DTD1L",
        "colab": {
          "base_uri": "https://localhost:8080/"
        },
        "outputId": "2399f12e-92b3-4940-8739-badd1b2c2bd0"
      },
      "execution_count": 74,
      "outputs": [
        {
          "output_type": "stream",
          "name": "stdout",
          "text": [
            "    캠프 등록여부\n",
            "0  빅분기   등록\n",
            "1  빅분기   등록\n",
            "2  빅분기   등록\n",
            "3  빅분기   등록\n",
            "4  빅분기   등록\n"
          ]
        }
      ]
    },
    {
      "cell_type": "code",
      "source": [
        "df = pd.crosstab(df['캠프'], df['등록여부'])\n",
        "print(df)\n",
        "from scipy.stats import chi2_contingency\n",
        "print(chi2_contingency(df)) #expected_freq=array([[48.88888889, 31.11111111],\n",
        "                                                #[61.11111111, 38.88888889]]))"
      ],
      "metadata": {
        "id": "sYn61RTV7egq",
        "colab": {
          "base_uri": "https://localhost:8080/"
        },
        "outputId": "f2b89582-d588-41c6-e864-3f8faaa9a208"
      },
      "execution_count": 75,
      "outputs": [
        {
          "output_type": "stream",
          "name": "stdout",
          "text": [
            "등록여부  등록  등록안함\n",
            "캠프            \n",
            "빅분기   50    30\n",
            "정처기   60    40\n",
            "Chi2ContingencyResult(statistic=np.float64(0.03535714285714309), pvalue=np.float64(0.8508492527705047), dof=1, expected_freq=array([[48.88888889, 31.11111111],\n",
            "       [61.11111111, 38.88888889]]))\n"
          ]
        }
      ]
    },
    {
      "cell_type": "markdown",
      "metadata": {
        "id": "BTpNhSDU751h"
      },
      "source": [
        "### Section8."
      ]
    },
    {
      "cell_type": "code",
      "source": [
        "# 데이터\n",
        "import pandas as pd\n",
        "df = pd.DataFrame({\n",
        "    '할인율': [28, 24, 13, 0, 27, 30, 10, 16, 6, 5, 7, 11, 11, 30, 25,\n",
        "            4, 7, 24, 19, 21, 6, 10, 26, 13, 15, 6, 12, 6, 20, 2],\n",
        "    '온도': [15, 34, 15, 22, 29, 30, 14, 17, 28, 29, 19, 19, 34, 10,\n",
        "           29, 28, 12, 25, 32, 28, 22, 16, 30, 11, 16, 18, 16, 33, 12, 22],\n",
        "    '광고비': [342, 666, 224, 764, 148, 499, 711, 596, 797, 484, 986, 347, 146, 362, 642,\n",
        "            591, 846, 260, 560, 941, 469, 309, 730, 305, 892, 147, 887, 526, 525, 884],\n",
        "    '주문량': [635, 958, 525, 25, 607, 872, 858, 732, 1082, 863, 904, 686, 699, 615, 893,\n",
        "            830, 856, 679, 918, 951, 789, 583, 988, 631, 866, 549, 910, 946, 647, 943]\n",
        "})\n",
        "print(df.head(3))"
      ],
      "metadata": {
        "colab": {
          "base_uri": "https://localhost:8080/"
        },
        "id": "krDzI0y-rXNr",
        "outputId": "092a47a9-2ade-474b-e094-2ba8d054eec6"
      },
      "execution_count": 76,
      "outputs": [
        {
          "output_type": "stream",
          "name": "stdout",
          "text": [
            "   할인율  온도  광고비  주문량\n",
            "0   28  15  342  635\n",
            "1   24  34  666  958\n",
            "2   13  15  224  525\n"
          ]
        }
      ]
    },
    {
      "cell_type": "code",
      "source": [
        "'''\n",
        "한 도시의 배달 서비스 회사에서 한 달 동안의 주문 데이터 수집\n",
        "주문량 예측하고자 한다.\n",
        "다중 선형 회귀 모델 구축\n",
        "'''\n",
        "#할인율과 온도의 상관계수 반올림 2\n",
        "print(\"할인율온도 corr\", round(df['할인율'].corr(df['온도']),2))\n",
        "#모델의 결정계수.2\n",
        "from statsmodels.formula.api import ols\n",
        "model = ols('주문량 ~ 할인율+온도+광고비', df).fit()\n",
        "print(model.summary())\n",
        "print(\"결정계수\", round(model.rsquared,2))\n",
        "#각 변수의 회귀 계수 .4\n",
        "print(\"할인율 coef\", round(model.params[1],4))\n",
        "print(\"온도 coef\", round(model.params[2]),4 )\n",
        "print(\"광고비 coef\", round(model.params[3]),4)\n",
        "#모델의 절편(intercept) .4\n",
        "print(\"Intercept\", round(model.params['Intercept'],4))\n",
        "#온도의 회귀 계수가 통계적으로 유의한가 ? .4\n",
        "print(\"온도 회귀계수 p-value\", round(model.pvalues['온도'],4))\n"
      ],
      "metadata": {
        "colab": {
          "base_uri": "https://localhost:8080/"
        },
        "id": "4QqMcXwgTPcT",
        "outputId": "b93fa5fe-6085-4324-f9eb-8177205dfc3c"
      },
      "execution_count": 88,
      "outputs": [
        {
          "output_type": "stream",
          "name": "stdout",
          "text": [
            "할인율온도 corr 0.09\n",
            "                            OLS Regression Results                            \n",
            "==============================================================================\n",
            "Dep. Variable:                    주문량   R-squared:                       0.400\n",
            "Model:                            OLS   Adj. R-squared:                  0.330\n",
            "Method:                 Least Squares   F-statistic:                     5.770\n",
            "Date:                Thu, 19 Jun 2025   Prob (F-statistic):            0.00366\n",
            "Time:                        13:56:16   Log-Likelihood:                -194.11\n",
            "No. Observations:                  30   AIC:                             396.2\n",
            "Df Residuals:                      26   BIC:                             401.8\n",
            "Df Model:                           3                                         \n",
            "Covariance Type:            nonrobust                                         \n",
            "==============================================================================\n",
            "                 coef    std err          t      P>|t|      [0.025      0.975]\n",
            "------------------------------------------------------------------------------\n",
            "Intercept    267.6609    129.985      2.059      0.050       0.472     534.849\n",
            "할인율            4.2068      3.549      1.185      0.247      -3.089      11.503\n",
            "온도             9.4798      4.098      2.313      0.029       1.057      17.903\n",
            "광고비            0.4148      0.125      3.310      0.003       0.157       0.672\n",
            "==============================================================================\n",
            "Omnibus:                       56.788   Durbin-Watson:                   1.647\n",
            "Prob(Omnibus):                  0.000   Jarque-Bera (JB):              419.005\n",
            "Skew:                          -3.845   Prob(JB):                     1.03e-91\n",
            "Kurtosis:                      19.616   Cond. No.                     2.58e+03\n",
            "==============================================================================\n",
            "\n",
            "Notes:\n",
            "[1] Standard Errors assume that the covariance matrix of the errors is correctly specified.\n",
            "[2] The condition number is large, 2.58e+03. This might indicate that there are\n",
            "strong multicollinearity or other numerical problems.\n",
            "결정계수 0.4\n",
            "할인율 coef 4.2068\n",
            "온도 coef 9 4\n",
            "광고비 coef 0 4\n",
            "Intercept 267.6609\n",
            "온도 회귀계수 p-value 0.0289\n"
          ]
        },
        {
          "output_type": "stream",
          "name": "stderr",
          "text": [
            "/tmp/ipython-input-88-615264122.py:14: FutureWarning: Series.__getitem__ treating keys as positions is deprecated. In a future version, integer keys will always be treated as labels (consistent with DataFrame behavior). To access a value by position, use `ser.iloc[pos]`\n",
            "  print(\"할인율 coef\", round(model.params[1],4))\n",
            "/tmp/ipython-input-88-615264122.py:15: FutureWarning: Series.__getitem__ treating keys as positions is deprecated. In a future version, integer keys will always be treated as labels (consistent with DataFrame behavior). To access a value by position, use `ser.iloc[pos]`\n",
            "  print(\"온도 coef\", round(model.params[2]),4 )\n",
            "/tmp/ipython-input-88-615264122.py:16: FutureWarning: Series.__getitem__ treating keys as positions is deprecated. In a future version, integer keys will always be treated as labels (consistent with DataFrame behavior). To access a value by position, use `ser.iloc[pos]`\n",
            "  print(\"광고비 coef\", round(model.params[3]),4)\n"
          ]
        }
      ]
    },
    {
      "cell_type": "code",
      "source": [
        "#데이터가 할인율이 10%, 온도가 20도, 광고비가 500,000일때 배달 주문량 예측\n",
        "pred = model.predict(pd.DataFrame({'할인율':[10],'온도':[20], '광고비':[500]}))\n",
        "print(\"예측값\", pred)\n",
        "#잔차 제곱합\n",
        "df['잔차'] = df['주문량'] - model.predict(df)\n",
        "print(\"잔차 제곱합\", round(sum(df['잔차']**2)))\n",
        "\n",
        "#MSE\n",
        "mse = (df['잔차']**2).mean()\n",
        "print(\"mse\", round(mse,2))\n",
        "\n",
        "#온도의 회귀 계수에 대한 90% 신뢰구간\n",
        "print(\"온도 신뢰구간\", model.conf_int(alpha=0.1))\n",
        "#데이터가 할인율이 15%,온도가 25도 광고비가 300,000원일때 90% 신뢰구간과 예측구간\n",
        "new_data = pd.DataFrame({'할인율':[15],'온도':[25], '광고비':[300]})\n",
        "print(\"신뢰구간\", model.get_prediction(new_data).summary_frame())"
      ],
      "metadata": {
        "colab": {
          "base_uri": "https://localhost:8080/"
        },
        "id": "VJJUunjced87",
        "outputId": "50a37612-1261-430f-f3ac-081993c74743"
      },
      "execution_count": 92,
      "outputs": [
        {
          "output_type": "stream",
          "name": "stdout",
          "text": [
            "예측값 0    706.739338\n",
            "dtype: float64\n",
            "잔차 제곱합 732198\n",
            "mse 24406.6\n",
            "온도 신뢰구간                    0           1\n",
            "Intercept  45.955720  489.366084\n",
            "할인율        -1.847229   10.260887\n",
            "온도          2.490702   16.468984\n",
            "광고비         0.201064    0.628589\n",
            "신뢰구간          mean    mean_se  mean_ci_lower  mean_ci_upper  obs_ci_lower  \\\n",
            "0  692.207386  45.555397     598.566925     785.847846    334.777165   \n",
            "\n",
            "   obs_ci_upper  \n",
            "0   1049.637606  \n"
          ]
        }
      ]
    },
    {
      "cell_type": "code",
      "source": [
        "#독립변수 할인율과 온도를 고정한 상태에서 광고비가 배달 주문량에 영향을 주는기 가설을 검정하세요.(귀무가설 :광고비의 회귀계수는 0이다)\n",
        "cond =model.pvalues['광고비'] <0.05\n",
        "if cond:\n",
        "  result = \"기각\"\n",
        "else:\n",
        "  result = \"채택\"\n",
        "print(\"귀무가설\", result)"
      ],
      "metadata": {
        "colab": {
          "base_uri": "https://localhost:8080/"
        },
        "id": "2WUS3ajzfOza",
        "outputId": "ed1e0f1e-6a4e-494d-f735-89668e076e45"
      },
      "execution_count": 93,
      "outputs": [
        {
          "output_type": "stream",
          "name": "stdout",
          "text": [
            "귀무가설 기각\n"
          ]
        }
      ]
    },
    {
      "cell_type": "markdown",
      "source": [
        "### Section9."
      ],
      "metadata": {
        "id": "qn6BR7CQrUVt"
      }
    },
    {
      "cell_type": "code",
      "source": [
        "import pandas as pd\n",
        "# df = pd.read_csv(\"customer_travel.csv\")\n",
        "df = pd.read_csv(\"https://raw.githubusercontent.com/lovedlim/bigdata_analyst_cert/refs/heads/main/part3/ch6/customer_travel.csv\")\n",
        "\n",
        "df.head()"
      ],
      "metadata": {
        "colab": {
          "base_uri": "https://localhost:8080/",
          "height": 206
        },
        "id": "k1Czox3XGc2_",
        "outputId": "f22fbe3c-7c80-4c8e-a291-7fc7088f7c89"
      },
      "execution_count": 98,
      "outputs": [
        {
          "output_type": "execute_result",
          "data": {
            "text/plain": [
              "   age  service  social  booked  target\n",
              "0   34        6       0       1       0\n",
              "1   34        5       1       0       1\n",
              "2   37        3       1       0       0\n",
              "3   30        2       0       0       0\n",
              "4   30        1       0       0       0"
            ],
            "text/html": [
              "\n",
              "  <div id=\"df-024ac58c-e6e3-42f0-8985-2be938c57037\" class=\"colab-df-container\">\n",
              "    <div>\n",
              "<style scoped>\n",
              "    .dataframe tbody tr th:only-of-type {\n",
              "        vertical-align: middle;\n",
              "    }\n",
              "\n",
              "    .dataframe tbody tr th {\n",
              "        vertical-align: top;\n",
              "    }\n",
              "\n",
              "    .dataframe thead th {\n",
              "        text-align: right;\n",
              "    }\n",
              "</style>\n",
              "<table border=\"1\" class=\"dataframe\">\n",
              "  <thead>\n",
              "    <tr style=\"text-align: right;\">\n",
              "      <th></th>\n",
              "      <th>age</th>\n",
              "      <th>service</th>\n",
              "      <th>social</th>\n",
              "      <th>booked</th>\n",
              "      <th>target</th>\n",
              "    </tr>\n",
              "  </thead>\n",
              "  <tbody>\n",
              "    <tr>\n",
              "      <th>0</th>\n",
              "      <td>34</td>\n",
              "      <td>6</td>\n",
              "      <td>0</td>\n",
              "      <td>1</td>\n",
              "      <td>0</td>\n",
              "    </tr>\n",
              "    <tr>\n",
              "      <th>1</th>\n",
              "      <td>34</td>\n",
              "      <td>5</td>\n",
              "      <td>1</td>\n",
              "      <td>0</td>\n",
              "      <td>1</td>\n",
              "    </tr>\n",
              "    <tr>\n",
              "      <th>2</th>\n",
              "      <td>37</td>\n",
              "      <td>3</td>\n",
              "      <td>1</td>\n",
              "      <td>0</td>\n",
              "      <td>0</td>\n",
              "    </tr>\n",
              "    <tr>\n",
              "      <th>3</th>\n",
              "      <td>30</td>\n",
              "      <td>2</td>\n",
              "      <td>0</td>\n",
              "      <td>0</td>\n",
              "      <td>0</td>\n",
              "    </tr>\n",
              "    <tr>\n",
              "      <th>4</th>\n",
              "      <td>30</td>\n",
              "      <td>1</td>\n",
              "      <td>0</td>\n",
              "      <td>0</td>\n",
              "      <td>0</td>\n",
              "    </tr>\n",
              "  </tbody>\n",
              "</table>\n",
              "</div>\n",
              "    <div class=\"colab-df-buttons\">\n",
              "\n",
              "  <div class=\"colab-df-container\">\n",
              "    <button class=\"colab-df-convert\" onclick=\"convertToInteractive('df-024ac58c-e6e3-42f0-8985-2be938c57037')\"\n",
              "            title=\"Convert this dataframe to an interactive table.\"\n",
              "            style=\"display:none;\">\n",
              "\n",
              "  <svg xmlns=\"http://www.w3.org/2000/svg\" height=\"24px\" viewBox=\"0 -960 960 960\">\n",
              "    <path d=\"M120-120v-720h720v720H120Zm60-500h600v-160H180v160Zm220 220h160v-160H400v160Zm0 220h160v-160H400v160ZM180-400h160v-160H180v160Zm440 0h160v-160H620v160ZM180-180h160v-160H180v160Zm440 0h160v-160H620v160Z\"/>\n",
              "  </svg>\n",
              "    </button>\n",
              "\n",
              "  <style>\n",
              "    .colab-df-container {\n",
              "      display:flex;\n",
              "      gap: 12px;\n",
              "    }\n",
              "\n",
              "    .colab-df-convert {\n",
              "      background-color: #E8F0FE;\n",
              "      border: none;\n",
              "      border-radius: 50%;\n",
              "      cursor: pointer;\n",
              "      display: none;\n",
              "      fill: #1967D2;\n",
              "      height: 32px;\n",
              "      padding: 0 0 0 0;\n",
              "      width: 32px;\n",
              "    }\n",
              "\n",
              "    .colab-df-convert:hover {\n",
              "      background-color: #E2EBFA;\n",
              "      box-shadow: 0px 1px 2px rgba(60, 64, 67, 0.3), 0px 1px 3px 1px rgba(60, 64, 67, 0.15);\n",
              "      fill: #174EA6;\n",
              "    }\n",
              "\n",
              "    .colab-df-buttons div {\n",
              "      margin-bottom: 4px;\n",
              "    }\n",
              "\n",
              "    [theme=dark] .colab-df-convert {\n",
              "      background-color: #3B4455;\n",
              "      fill: #D2E3FC;\n",
              "    }\n",
              "\n",
              "    [theme=dark] .colab-df-convert:hover {\n",
              "      background-color: #434B5C;\n",
              "      box-shadow: 0px 1px 3px 1px rgba(0, 0, 0, 0.15);\n",
              "      filter: drop-shadow(0px 1px 2px rgba(0, 0, 0, 0.3));\n",
              "      fill: #FFFFFF;\n",
              "    }\n",
              "  </style>\n",
              "\n",
              "    <script>\n",
              "      const buttonEl =\n",
              "        document.querySelector('#df-024ac58c-e6e3-42f0-8985-2be938c57037 button.colab-df-convert');\n",
              "      buttonEl.style.display =\n",
              "        google.colab.kernel.accessAllowed ? 'block' : 'none';\n",
              "\n",
              "      async function convertToInteractive(key) {\n",
              "        const element = document.querySelector('#df-024ac58c-e6e3-42f0-8985-2be938c57037');\n",
              "        const dataTable =\n",
              "          await google.colab.kernel.invokeFunction('convertToInteractive',\n",
              "                                                    [key], {});\n",
              "        if (!dataTable) return;\n",
              "\n",
              "        const docLinkHtml = 'Like what you see? Visit the ' +\n",
              "          '<a target=\"_blank\" href=https://colab.research.google.com/notebooks/data_table.ipynb>data table notebook</a>'\n",
              "          + ' to learn more about interactive tables.';\n",
              "        element.innerHTML = '';\n",
              "        dataTable['output_type'] = 'display_data';\n",
              "        await google.colab.output.renderOutput(dataTable, element);\n",
              "        const docLink = document.createElement('div');\n",
              "        docLink.innerHTML = docLinkHtml;\n",
              "        element.appendChild(docLink);\n",
              "      }\n",
              "    </script>\n",
              "  </div>\n",
              "\n",
              "\n",
              "    <div id=\"df-220ae4eb-990d-49c7-9b94-3f8d1a128bb2\">\n",
              "      <button class=\"colab-df-quickchart\" onclick=\"quickchart('df-220ae4eb-990d-49c7-9b94-3f8d1a128bb2')\"\n",
              "                title=\"Suggest charts\"\n",
              "                style=\"display:none;\">\n",
              "\n",
              "<svg xmlns=\"http://www.w3.org/2000/svg\" height=\"24px\"viewBox=\"0 0 24 24\"\n",
              "     width=\"24px\">\n",
              "    <g>\n",
              "        <path d=\"M19 3H5c-1.1 0-2 .9-2 2v14c0 1.1.9 2 2 2h14c1.1 0 2-.9 2-2V5c0-1.1-.9-2-2-2zM9 17H7v-7h2v7zm4 0h-2V7h2v10zm4 0h-2v-4h2v4z\"/>\n",
              "    </g>\n",
              "</svg>\n",
              "      </button>\n",
              "\n",
              "<style>\n",
              "  .colab-df-quickchart {\n",
              "      --bg-color: #E8F0FE;\n",
              "      --fill-color: #1967D2;\n",
              "      --hover-bg-color: #E2EBFA;\n",
              "      --hover-fill-color: #174EA6;\n",
              "      --disabled-fill-color: #AAA;\n",
              "      --disabled-bg-color: #DDD;\n",
              "  }\n",
              "\n",
              "  [theme=dark] .colab-df-quickchart {\n",
              "      --bg-color: #3B4455;\n",
              "      --fill-color: #D2E3FC;\n",
              "      --hover-bg-color: #434B5C;\n",
              "      --hover-fill-color: #FFFFFF;\n",
              "      --disabled-bg-color: #3B4455;\n",
              "      --disabled-fill-color: #666;\n",
              "  }\n",
              "\n",
              "  .colab-df-quickchart {\n",
              "    background-color: var(--bg-color);\n",
              "    border: none;\n",
              "    border-radius: 50%;\n",
              "    cursor: pointer;\n",
              "    display: none;\n",
              "    fill: var(--fill-color);\n",
              "    height: 32px;\n",
              "    padding: 0;\n",
              "    width: 32px;\n",
              "  }\n",
              "\n",
              "  .colab-df-quickchart:hover {\n",
              "    background-color: var(--hover-bg-color);\n",
              "    box-shadow: 0 1px 2px rgba(60, 64, 67, 0.3), 0 1px 3px 1px rgba(60, 64, 67, 0.15);\n",
              "    fill: var(--button-hover-fill-color);\n",
              "  }\n",
              "\n",
              "  .colab-df-quickchart-complete:disabled,\n",
              "  .colab-df-quickchart-complete:disabled:hover {\n",
              "    background-color: var(--disabled-bg-color);\n",
              "    fill: var(--disabled-fill-color);\n",
              "    box-shadow: none;\n",
              "  }\n",
              "\n",
              "  .colab-df-spinner {\n",
              "    border: 2px solid var(--fill-color);\n",
              "    border-color: transparent;\n",
              "    border-bottom-color: var(--fill-color);\n",
              "    animation:\n",
              "      spin 1s steps(1) infinite;\n",
              "  }\n",
              "\n",
              "  @keyframes spin {\n",
              "    0% {\n",
              "      border-color: transparent;\n",
              "      border-bottom-color: var(--fill-color);\n",
              "      border-left-color: var(--fill-color);\n",
              "    }\n",
              "    20% {\n",
              "      border-color: transparent;\n",
              "      border-left-color: var(--fill-color);\n",
              "      border-top-color: var(--fill-color);\n",
              "    }\n",
              "    30% {\n",
              "      border-color: transparent;\n",
              "      border-left-color: var(--fill-color);\n",
              "      border-top-color: var(--fill-color);\n",
              "      border-right-color: var(--fill-color);\n",
              "    }\n",
              "    40% {\n",
              "      border-color: transparent;\n",
              "      border-right-color: var(--fill-color);\n",
              "      border-top-color: var(--fill-color);\n",
              "    }\n",
              "    60% {\n",
              "      border-color: transparent;\n",
              "      border-right-color: var(--fill-color);\n",
              "    }\n",
              "    80% {\n",
              "      border-color: transparent;\n",
              "      border-right-color: var(--fill-color);\n",
              "      border-bottom-color: var(--fill-color);\n",
              "    }\n",
              "    90% {\n",
              "      border-color: transparent;\n",
              "      border-bottom-color: var(--fill-color);\n",
              "    }\n",
              "  }\n",
              "</style>\n",
              "\n",
              "      <script>\n",
              "        async function quickchart(key) {\n",
              "          const quickchartButtonEl =\n",
              "            document.querySelector('#' + key + ' button');\n",
              "          quickchartButtonEl.disabled = true;  // To prevent multiple clicks.\n",
              "          quickchartButtonEl.classList.add('colab-df-spinner');\n",
              "          try {\n",
              "            const charts = await google.colab.kernel.invokeFunction(\n",
              "                'suggestCharts', [key], {});\n",
              "          } catch (error) {\n",
              "            console.error('Error during call to suggestCharts:', error);\n",
              "          }\n",
              "          quickchartButtonEl.classList.remove('colab-df-spinner');\n",
              "          quickchartButtonEl.classList.add('colab-df-quickchart-complete');\n",
              "        }\n",
              "        (() => {\n",
              "          let quickchartButtonEl =\n",
              "            document.querySelector('#df-220ae4eb-990d-49c7-9b94-3f8d1a128bb2 button');\n",
              "          quickchartButtonEl.style.display =\n",
              "            google.colab.kernel.accessAllowed ? 'block' : 'none';\n",
              "        })();\n",
              "      </script>\n",
              "    </div>\n",
              "\n",
              "    </div>\n",
              "  </div>\n"
            ],
            "application/vnd.google.colaboratory.intrinsic+json": {
              "type": "dataframe",
              "variable_name": "df",
              "summary": "{\n  \"name\": \"df\",\n  \"rows\": 800,\n  \"fields\": [\n    {\n      \"column\": \"age\",\n      \"properties\": {\n        \"dtype\": \"number\",\n        \"std\": 3,\n        \"min\": 27,\n        \"max\": 38,\n        \"num_unique_values\": 11,\n        \"samples\": [\n          28,\n          34,\n          33\n        ],\n        \"semantic_type\": \"\",\n        \"description\": \"\"\n      }\n    },\n    {\n      \"column\": \"service\",\n      \"properties\": {\n        \"dtype\": \"number\",\n        \"std\": 1,\n        \"min\": 1,\n        \"max\": 6,\n        \"num_unique_values\": 6,\n        \"samples\": [\n          6,\n          5,\n          4\n        ],\n        \"semantic_type\": \"\",\n        \"description\": \"\"\n      }\n    },\n    {\n      \"column\": \"social\",\n      \"properties\": {\n        \"dtype\": \"number\",\n        \"std\": 0,\n        \"min\": 0,\n        \"max\": 1,\n        \"num_unique_values\": 2,\n        \"samples\": [\n          1,\n          0\n        ],\n        \"semantic_type\": \"\",\n        \"description\": \"\"\n      }\n    },\n    {\n      \"column\": \"booked\",\n      \"properties\": {\n        \"dtype\": \"number\",\n        \"std\": 0,\n        \"min\": 0,\n        \"max\": 1,\n        \"num_unique_values\": 2,\n        \"samples\": [\n          0,\n          1\n        ],\n        \"semantic_type\": \"\",\n        \"description\": \"\"\n      }\n    },\n    {\n      \"column\": \"target\",\n      \"properties\": {\n        \"dtype\": \"number\",\n        \"std\": 0,\n        \"min\": 0,\n        \"max\": 1,\n        \"num_unique_values\": 2,\n        \"samples\": [\n          1,\n          0\n        ],\n        \"semantic_type\": \"\",\n        \"description\": \"\"\n      }\n    }\n  ]\n}"
            }
          },
          "metadata": {},
          "execution_count": 98
        }
      ]
    },
    {
      "cell_type": "code",
      "source": [
        "#앞 50%는 a, 뒤 50% b\n",
        "df_a = df.iloc[:int(len(df)*0.5)]\n",
        "df_b = df.iloc[int(len(df)*0.5):]"
      ],
      "metadata": {
        "id": "hSLbq3fMfvn_"
      },
      "execution_count": 102,
      "outputs": []
    },
    {
      "cell_type": "code",
      "source": [
        "#종속변수 target과 모든 독립변수를 사용하여 로지스틱 회귀모델을 적합하고, 유의하지 않은 독립변수의 개수를 구하시오\n",
        "#df_a_target = df_a.pop('target')\n",
        "#df_b_target = df_b.pop('target')\n",
        "from statsmodels.formula.api import logit\n",
        "model = logit('target~age+service+social+booked',df_a).fit()\n",
        "model.summary()"
      ],
      "metadata": {
        "colab": {
          "base_uri": "https://localhost:8080/",
          "height": 371
        },
        "id": "sD8jhX-UUeSx",
        "outputId": "615ec08a-da03-49f5-a587-c2a705dc6e71"
      },
      "execution_count": 103,
      "outputs": [
        {
          "output_type": "stream",
          "name": "stdout",
          "text": [
            "Optimization terminated successfully.\n",
            "         Current function value: 0.527521\n",
            "         Iterations 6\n"
          ]
        },
        {
          "output_type": "execute_result",
          "data": {
            "text/plain": [
              "<class 'statsmodels.iolib.summary.Summary'>\n",
              "\"\"\"\n",
              "                           Logit Regression Results                           \n",
              "==============================================================================\n",
              "Dep. Variable:                 target   No. Observations:                  400\n",
              "Model:                          Logit   Df Residuals:                      395\n",
              "Method:                           MLE   Df Model:                            4\n",
              "Date:                Thu, 19 Jun 2025   Pseudo R-squ.:                 0.05254\n",
              "Time:                        14:05:44   Log-Likelihood:                -211.01\n",
              "converged:                       True   LL-Null:                       -222.71\n",
              "Covariance Type:            nonrobust   LLR p-value:                 0.0001052\n",
              "==============================================================================\n",
              "                 coef    std err          z      P>|z|      [0.025      0.975]\n",
              "------------------------------------------------------------------------------\n",
              "Intercept      2.3314      1.204      1.937      0.053      -0.028       4.691\n",
              "age           -0.1043      0.038     -2.781      0.005      -0.178      -0.031\n",
              "service        0.0452      0.079      0.572      0.567      -0.110       0.200\n",
              "social         0.1920      0.247      0.779      0.436      -0.291       0.675\n",
              "booked        -0.9542      0.272     -3.512      0.000      -1.487      -0.422\n",
              "==============================================================================\n",
              "\"\"\""
            ],
            "text/html": [
              "<table class=\"simpletable\">\n",
              "<caption>Logit Regression Results</caption>\n",
              "<tr>\n",
              "  <th>Dep. Variable:</th>        <td>target</td>      <th>  No. Observations:  </th>  <td>   400</td>  \n",
              "</tr>\n",
              "<tr>\n",
              "  <th>Model:</th>                 <td>Logit</td>      <th>  Df Residuals:      </th>  <td>   395</td>  \n",
              "</tr>\n",
              "<tr>\n",
              "  <th>Method:</th>                 <td>MLE</td>       <th>  Df Model:          </th>  <td>     4</td>  \n",
              "</tr>\n",
              "<tr>\n",
              "  <th>Date:</th>            <td>Thu, 19 Jun 2025</td> <th>  Pseudo R-squ.:     </th>  <td>0.05254</td> \n",
              "</tr>\n",
              "<tr>\n",
              "  <th>Time:</th>                <td>14:05:44</td>     <th>  Log-Likelihood:    </th> <td> -211.01</td> \n",
              "</tr>\n",
              "<tr>\n",
              "  <th>converged:</th>             <td>True</td>       <th>  LL-Null:           </th> <td> -222.71</td> \n",
              "</tr>\n",
              "<tr>\n",
              "  <th>Covariance Type:</th>     <td>nonrobust</td>    <th>  LLR p-value:       </th> <td>0.0001052</td>\n",
              "</tr>\n",
              "</table>\n",
              "<table class=\"simpletable\">\n",
              "<tr>\n",
              "      <td></td>         <th>coef</th>     <th>std err</th>      <th>z</th>      <th>P>|z|</th>  <th>[0.025</th>    <th>0.975]</th>  \n",
              "</tr>\n",
              "<tr>\n",
              "  <th>Intercept</th> <td>    2.3314</td> <td>    1.204</td> <td>    1.937</td> <td> 0.053</td> <td>   -0.028</td> <td>    4.691</td>\n",
              "</tr>\n",
              "<tr>\n",
              "  <th>age</th>       <td>   -0.1043</td> <td>    0.038</td> <td>   -2.781</td> <td> 0.005</td> <td>   -0.178</td> <td>   -0.031</td>\n",
              "</tr>\n",
              "<tr>\n",
              "  <th>service</th>   <td>    0.0452</td> <td>    0.079</td> <td>    0.572</td> <td> 0.567</td> <td>   -0.110</td> <td>    0.200</td>\n",
              "</tr>\n",
              "<tr>\n",
              "  <th>social</th>    <td>    0.1920</td> <td>    0.247</td> <td>    0.779</td> <td> 0.436</td> <td>   -0.291</td> <td>    0.675</td>\n",
              "</tr>\n",
              "<tr>\n",
              "  <th>booked</th>    <td>   -0.9542</td> <td>    0.272</td> <td>   -3.512</td> <td> 0.000</td> <td>   -1.487</td> <td>   -0.422</td>\n",
              "</tr>\n",
              "</table>"
            ],
            "text/latex": "\\begin{center}\n\\begin{tabular}{lclc}\n\\toprule\n\\textbf{Dep. Variable:}   &      target      & \\textbf{  No. Observations:  } &      400    \\\\\n\\textbf{Model:}           &      Logit       & \\textbf{  Df Residuals:      } &      395    \\\\\n\\textbf{Method:}          &       MLE        & \\textbf{  Df Model:          } &        4    \\\\\n\\textbf{Date:}            & Thu, 19 Jun 2025 & \\textbf{  Pseudo R-squ.:     } &  0.05254    \\\\\n\\textbf{Time:}            &     14:05:44     & \\textbf{  Log-Likelihood:    } &   -211.01   \\\\\n\\textbf{converged:}       &       True       & \\textbf{  LL-Null:           } &   -222.71   \\\\\n\\textbf{Covariance Type:} &    nonrobust     & \\textbf{  LLR p-value:       } & 0.0001052   \\\\\n\\bottomrule\n\\end{tabular}\n\\begin{tabular}{lcccccc}\n                   & \\textbf{coef} & \\textbf{std err} & \\textbf{z} & \\textbf{P$> |$z$|$} & \\textbf{[0.025} & \\textbf{0.975]}  \\\\\n\\midrule\n\\textbf{Intercept} &       2.3314  &        1.204     &     1.937  &         0.053        &       -0.028    &        4.691     \\\\\n\\textbf{age}       &      -0.1043  &        0.038     &    -2.781  &         0.005        &       -0.178    &       -0.031     \\\\\n\\textbf{service}   &       0.0452  &        0.079     &     0.572  &         0.567        &       -0.110    &        0.200     \\\\\n\\textbf{social}    &       0.1920  &        0.247     &     0.779  &         0.436        &       -0.291    &        0.675     \\\\\n\\textbf{booked}    &      -0.9542  &        0.272     &    -3.512  &         0.000        &       -1.487    &       -0.422     \\\\\n\\bottomrule\n\\end{tabular}\n%\\caption{Logit Regression Results}\n\\end{center}"
          },
          "metadata": {},
          "execution_count": 103
        }
      ]
    },
    {
      "cell_type": "code",
      "source": [
        "#p-value가 0.05보다 작은 유의한 변수만 사용해서 수저오딘 모델을 만들고 수정된 모델에서 가장 큰 p-value를 가진 변수의 이름 => age\n",
        "model = logit('target~age+booked',df_a).fit()\n",
        "model.summary()"
      ],
      "metadata": {
        "colab": {
          "base_uri": "https://localhost:8080/",
          "height": 328
        },
        "id": "vh_eEb_MGky6",
        "outputId": "0c174538-977f-455d-e35f-f5feefb8cb7e"
      },
      "execution_count": 106,
      "outputs": [
        {
          "output_type": "stream",
          "name": "stdout",
          "text": [
            "Optimization terminated successfully.\n",
            "         Current function value: 0.528581\n",
            "         Iterations 6\n"
          ]
        },
        {
          "output_type": "execute_result",
          "data": {
            "text/plain": [
              "<class 'statsmodels.iolib.summary.Summary'>\n",
              "\"\"\"\n",
              "                           Logit Regression Results                           \n",
              "==============================================================================\n",
              "Dep. Variable:                 target   No. Observations:                  400\n",
              "Model:                          Logit   Df Residuals:                      397\n",
              "Method:                           MLE   Df Model:                            2\n",
              "Date:                Thu, 19 Jun 2025   Pseudo R-squ.:                 0.05064\n",
              "Time:                        14:07:33   Log-Likelihood:                -211.43\n",
              "converged:                       True   LL-Null:                       -222.71\n",
              "Covariance Type:            nonrobust   LLR p-value:                 1.265e-05\n",
              "==============================================================================\n",
              "                 coef    std err          z      P>|z|      [0.025      0.975]\n",
              "------------------------------------------------------------------------------\n",
              "Intercept      2.4581      1.184      2.076      0.038       0.137       4.779\n",
              "age           -0.1025      0.037     -2.752      0.006      -0.176      -0.030\n",
              "booked        -0.9461      0.267     -3.542      0.000      -1.470      -0.423\n",
              "==============================================================================\n",
              "\"\"\""
            ],
            "text/html": [
              "<table class=\"simpletable\">\n",
              "<caption>Logit Regression Results</caption>\n",
              "<tr>\n",
              "  <th>Dep. Variable:</th>        <td>target</td>      <th>  No. Observations:  </th>  <td>   400</td>  \n",
              "</tr>\n",
              "<tr>\n",
              "  <th>Model:</th>                 <td>Logit</td>      <th>  Df Residuals:      </th>  <td>   397</td>  \n",
              "</tr>\n",
              "<tr>\n",
              "  <th>Method:</th>                 <td>MLE</td>       <th>  Df Model:          </th>  <td>     2</td>  \n",
              "</tr>\n",
              "<tr>\n",
              "  <th>Date:</th>            <td>Thu, 19 Jun 2025</td> <th>  Pseudo R-squ.:     </th>  <td>0.05064</td> \n",
              "</tr>\n",
              "<tr>\n",
              "  <th>Time:</th>                <td>14:07:33</td>     <th>  Log-Likelihood:    </th> <td> -211.43</td> \n",
              "</tr>\n",
              "<tr>\n",
              "  <th>converged:</th>             <td>True</td>       <th>  LL-Null:           </th> <td> -222.71</td> \n",
              "</tr>\n",
              "<tr>\n",
              "  <th>Covariance Type:</th>     <td>nonrobust</td>    <th>  LLR p-value:       </th> <td>1.265e-05</td>\n",
              "</tr>\n",
              "</table>\n",
              "<table class=\"simpletable\">\n",
              "<tr>\n",
              "      <td></td>         <th>coef</th>     <th>std err</th>      <th>z</th>      <th>P>|z|</th>  <th>[0.025</th>    <th>0.975]</th>  \n",
              "</tr>\n",
              "<tr>\n",
              "  <th>Intercept</th> <td>    2.4581</td> <td>    1.184</td> <td>    2.076</td> <td> 0.038</td> <td>    0.137</td> <td>    4.779</td>\n",
              "</tr>\n",
              "<tr>\n",
              "  <th>age</th>       <td>   -0.1025</td> <td>    0.037</td> <td>   -2.752</td> <td> 0.006</td> <td>   -0.176</td> <td>   -0.030</td>\n",
              "</tr>\n",
              "<tr>\n",
              "  <th>booked</th>    <td>   -0.9461</td> <td>    0.267</td> <td>   -3.542</td> <td> 0.000</td> <td>   -1.470</td> <td>   -0.423</td>\n",
              "</tr>\n",
              "</table>"
            ],
            "text/latex": "\\begin{center}\n\\begin{tabular}{lclc}\n\\toprule\n\\textbf{Dep. Variable:}   &      target      & \\textbf{  No. Observations:  } &      400    \\\\\n\\textbf{Model:}           &      Logit       & \\textbf{  Df Residuals:      } &      397    \\\\\n\\textbf{Method:}          &       MLE        & \\textbf{  Df Model:          } &        2    \\\\\n\\textbf{Date:}            & Thu, 19 Jun 2025 & \\textbf{  Pseudo R-squ.:     } &  0.05064    \\\\\n\\textbf{Time:}            &     14:07:33     & \\textbf{  Log-Likelihood:    } &   -211.43   \\\\\n\\textbf{converged:}       &       True       & \\textbf{  LL-Null:           } &   -222.71   \\\\\n\\textbf{Covariance Type:} &    nonrobust     & \\textbf{  LLR p-value:       } & 1.265e-05   \\\\\n\\bottomrule\n\\end{tabular}\n\\begin{tabular}{lcccccc}\n                   & \\textbf{coef} & \\textbf{std err} & \\textbf{z} & \\textbf{P$> |$z$|$} & \\textbf{[0.025} & \\textbf{0.975]}  \\\\\n\\midrule\n\\textbf{Intercept} &       2.4581  &        1.184     &     2.076  &         0.038        &        0.137    &        4.779     \\\\\n\\textbf{age}       &      -0.1025  &        0.037     &    -2.752  &         0.006        &       -0.176    &       -0.030     \\\\\n\\textbf{booked}    &      -0.9461  &        0.267     &    -3.542  &         0.000        &       -1.470    &       -0.423     \\\\\n\\bottomrule\n\\end{tabular}\n%\\caption{Logit Regression Results}\n\\end{center}"
          },
          "metadata": {},
          "execution_count": 106
        }
      ]
    },
    {
      "cell_type": "code",
      "source": [
        "#수정된 모델에서 독립변수 중 절댓값이 가장 큰 회귀계수를 가진 변수의 이름 => booked\n",
        "#수정된 모델에서 로그 우도 => -211.43 (model.llf)\n",
        "#수정된 모델에서 잔차이탈도 =>\n",
        "print(-2*model.llf)"
      ],
      "metadata": {
        "id": "m2OmKnfoImIf",
        "colab": {
          "base_uri": "https://localhost:8080/"
        },
        "outputId": "cb80b9bf-9285-49d6-820f-45e81f0c18af"
      },
      "execution_count": 107,
      "outputs": [
        {
          "output_type": "stream",
          "name": "stdout",
          "text": [
            "422.8647650289116\n"
          ]
        }
      ]
    },
    {
      "cell_type": "code",
      "source": [
        "#수정된 모델에서 booked 변수가 3증가할때 오즈비를 계산하세요\n",
        "import numpy as np\n",
        "np.exp(model.params['booked']*3)"
      ],
      "metadata": {
        "colab": {
          "base_uri": "https://localhost:8080/"
        },
        "id": "y7SQnG08hIg6",
        "outputId": "8510031c-b74f-4748-cf52-2b53f33ad344"
      },
      "execution_count": 113,
      "outputs": [
        {
          "output_type": "execute_result",
          "data": {
            "text/plain": [
              "np.float64(0.058533122917711476)"
            ]
          },
          "metadata": {},
          "execution_count": 113
        }
      ]
    },
    {
      "cell_type": "code",
      "source": [
        "#수정된 모델에서 pvalue가 0.05보다 작은 회귀계수의 총합\n",
        "model.params[model.pvalues<0.05].sum() #절편도 포함"
      ],
      "metadata": {
        "id": "oqTw1dAThT6L",
        "outputId": "6ed54c7e-de1b-4c8d-d15f-123dcc320ff0",
        "colab": {
          "base_uri": "https://localhost:8080/"
        }
      },
      "execution_count": 111,
      "outputs": [
        {
          "output_type": "execute_result",
          "data": {
            "text/plain": [
              "np.float64(1.409468270586192)"
            ]
          },
          "metadata": {},
          "execution_count": 111
        }
      ]
    },
    {
      "cell_type": "code",
      "source": [
        "#수정된 모델로 b데이터를 사용해 예측한 후, b데이터의 target과 비교해 정확도 계산\n",
        "pred = model.predict(df_b)\n",
        "print(pred) #확률이 계산되서\n",
        "pred = (pred>0.5).astype(int)\n",
        "from sklearn.metrics import accuracy_score\n",
        "accuracy_score(df_b['target'], pred)"
      ],
      "metadata": {
        "id": "vk7O8PzrhX39",
        "outputId": "6000b529-163c-48f0-a5b3-04a7b80ab93a",
        "colab": {
          "base_uri": "https://localhost:8080/"
        }
      },
      "execution_count": 117,
      "outputs": [
        {
          "output_type": "stream",
          "name": "stdout",
          "text": [
            "400    0.158888\n",
            "401    0.208223\n",
            "402    0.121946\n",
            "403    0.350250\n",
            "404    0.225633\n",
            "         ...   \n",
            "795    0.111386\n",
            "796    0.350250\n",
            "797    0.350250\n",
            "798    0.092648\n",
            "799    0.398224\n",
            "Length: 400, dtype: float64\n"
          ]
        },
        {
          "output_type": "execute_result",
          "data": {
            "text/plain": [
              "0.765"
            ]
          },
          "metadata": {},
          "execution_count": 117
        }
      ]
    },
    {
      "cell_type": "code",
      "source": [
        "#위의 정확도를 바탕으로 오류율을 계산하시오.\n",
        "error_rate = 1-accuracy_score(df_b['target'],pred)\n",
        "error_rate"
      ],
      "metadata": {
        "id": "YAjWrHP1hldh",
        "outputId": "6544684e-c6ca-49b6-dd5a-de3aeb6f20f0",
        "colab": {
          "base_uri": "https://localhost:8080/"
        }
      },
      "execution_count": 118,
      "outputs": [
        {
          "output_type": "execute_result",
          "data": {
            "text/plain": [
              "0.235"
            ]
          },
          "metadata": {},
          "execution_count": 118
        }
      ]
    },
    {
      "cell_type": "code",
      "source": [
        "df_b['target'].value_counts()"
      ],
      "metadata": {
        "id": "QuVTDCUuiFym",
        "outputId": "72ce5030-9859-4b71-f038-63bd65bbaa42",
        "colab": {
          "base_uri": "https://localhost:8080/",
          "height": 178
        }
      },
      "execution_count": 114,
      "outputs": [
        {
          "output_type": "execute_result",
          "data": {
            "text/plain": [
              "target\n",
              "0    306\n",
              "1     94\n",
              "Name: count, dtype: int64"
            ],
            "text/html": [
              "<div>\n",
              "<style scoped>\n",
              "    .dataframe tbody tr th:only-of-type {\n",
              "        vertical-align: middle;\n",
              "    }\n",
              "\n",
              "    .dataframe tbody tr th {\n",
              "        vertical-align: top;\n",
              "    }\n",
              "\n",
              "    .dataframe thead th {\n",
              "        text-align: right;\n",
              "    }\n",
              "</style>\n",
              "<table border=\"1\" class=\"dataframe\">\n",
              "  <thead>\n",
              "    <tr style=\"text-align: right;\">\n",
              "      <th></th>\n",
              "      <th>count</th>\n",
              "    </tr>\n",
              "    <tr>\n",
              "      <th>target</th>\n",
              "      <th></th>\n",
              "    </tr>\n",
              "  </thead>\n",
              "  <tbody>\n",
              "    <tr>\n",
              "      <th>0</th>\n",
              "      <td>306</td>\n",
              "    </tr>\n",
              "    <tr>\n",
              "      <th>1</th>\n",
              "      <td>94</td>\n",
              "    </tr>\n",
              "  </tbody>\n",
              "</table>\n",
              "</div><br><label><b>dtype:</b> int64</label>"
            ]
          },
          "metadata": {},
          "execution_count": 114
        }
      ]
    },
    {
      "cell_type": "code",
      "source": [],
      "metadata": {
        "id": "wItBbZtmiIQJ"
      },
      "execution_count": null,
      "outputs": []
    }
  ],
  "metadata": {
    "colab": {
      "provenance": []
    },
    "kernelspec": {
      "display_name": "Python 3",
      "name": "python3"
    },
    "language_info": {
      "name": "python"
    }
  },
  "nbformat": 4,
  "nbformat_minor": 0
}